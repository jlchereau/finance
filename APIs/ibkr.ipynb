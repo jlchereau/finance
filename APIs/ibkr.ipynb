{
 "cells": [
  {
   "attachments": {},
   "cell_type": "markdown",
   "metadata": {},
   "source": [
    "# TWS API\n",
    "\n",
    "## Installation\n",
    "\n",
    "```python\n",
    "pip3 install ...\n",
    "```\n",
    "\n",
    "## Documentation\n",
    "\n",
    "- https://tradersacademy.online/trading-lesson/what-is-the-tws-api\n",
    "\n",
    "## Select a ticker"
   ]
  }
 ],
 "metadata": {
  "kernelspec": {
   "display_name": "Python 3",
   "language": "python",
   "name": "python3"
  },
  "language_info": {
   "name": "python",
   "version": "3.11.1"
  },
  "orig_nbformat": 4,
  "vscode": {
   "interpreter": {
    "hash": "ce1088cefd7531948aa66ab491b9c67a77446cabd6580784071eac06fd5b0bd2"
   }
  }
 },
 "nbformat": 4,
 "nbformat_minor": 2
}
