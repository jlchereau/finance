{
 "cells": [
  {
   "cell_type": "markdown",
   "metadata": {},
   "source": [
    "# TA-Lib\n",
    "\n",
    "- https://github.com/ta-lib/ta-lib-python\n",
    "- http://ta-lib.github.io/ta-lib-python\n",
    "- https://ta-lib.org/"
   ]
  },
  {
   "cell_type": "code",
   "execution_count": null,
   "metadata": {},
   "outputs": [],
   "source": [
    "!brew install ta-lib\n",
    "!export TA_INCLUDE_PATH=\"$(brew --prefix ta-lib)/include\"\n",
    "!export TA_LIBRARY_PATH=\"$(brew --prefix ta-lib)/lib\"\n",
    "\n",
    "# Check for windows:https://pypi.org/project/TA-Lib/"
   ]
  },
  {
   "cell_type": "code",
   "execution_count": null,
   "metadata": {},
   "outputs": [],
   "source": [
    "!pip3 install pandas\n",
    "!pip3 install TA-Lib"
   ]
  },
  {
   "cell_type": "markdown",
   "metadata": {},
   "source": []
  }
 ],
 "metadata": {
  "language_info": {
   "name": "python"
  }
 },
 "nbformat": 4,
 "nbformat_minor": 2
}
