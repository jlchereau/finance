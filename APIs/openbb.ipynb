{
 "cells": [
  {
   "cell_type": "markdown",
   "metadata": {},
   "source": [
    "# Open BB\n",
    "\n",
    "Docs:\n",
    "- https://pypi.org/project/openbb/\n",
    "- https://docs.openbb.co/"
   ]
  }
 ],
 "metadata": {
  "language_info": {
   "name": "python"
  }
 },
 "nbformat": 4,
 "nbformat_minor": 2
}
