{
 "cells": [
  {
   "attachments": {},
   "cell_type": "markdown",
   "metadata": {},
   "source": [
    "# Zacks\n",
    "\n",
    "- https://quote-feed.zacks.com/index?t=AAPL,TSLA"
   ]
  },
  {
   "cell_type": "code",
   "execution_count": 10,
   "metadata": {},
   "outputs": [],
   "source": [
    "import requests\n",
    "from requests.exceptions import HTTPError\n",
    "\n",
    "def zacks(ticker: str):\n",
    "    try:\n",
    "        response = requests.get('https://quote-feed.zacks.com/index?t=' + ticker)\n",
    "        response.raise_for_status()\n",
    "        json = response.json()\n",
    "\n",
    "    except HTTPError as http_err:\n",
    "        print(f'HTTP error occurred: {http_err}')\n",
    "    except Exception as err:\n",
    "        print(f'Other error occurred: {err}')\n",
    "\n",
    "    return json"
   ]
  },
  {
   "cell_type": "code",
   "execution_count": 43,
   "metadata": {},
   "outputs": [],
   "source": [
    "tickers = ['AAPL', 'TSLA', 'MRNA']\n",
    "z = zacks(','.join(tickers))"
   ]
  },
  {
   "cell_type": "code",
   "execution_count": 44,
   "metadata": {},
   "outputs": [
    {
     "name": "stdout",
     "output_type": "stream",
     "text": [
      "AAPL : {'source': {'sungard': {'bidasksize': '100x100', 'dividend_freq': '4', 'prev_close_date': '03/27/2023 16:00:00', 'timestamp': '16:00', 'exchange': 'NASDAQ', 'shares': '', 'volatility': '1.3', 'zacks_recommendation': '', 'pos_size': '175', 'open': '159.94', 'yrlow': '124.17', 'type': 'S', 'yield': '.57', 'market_cap': '2502240759900', 'ask': '158.34', 'dividend': '.23', 'dividend_date': '02/16/2023 00:00:00', 'earnings': '5.89', 'close': '160.25', 'day_low': '157.87', 'last_trade_datetime': '03/27/2023 16:00:00', 'volume': '59256344', 'yrhigh': '179.61', 'day_high': '160.77', 'bid': '158.28', 'name': 'Apple Inc.', 'pe_ratio': '26.52', 'updated': '03/27/2023 16:00:00'}, 'bats': {'ask_size': '500', 'routed': '86484', 'last_trade_datetime': '03/27/2023 15:58:02', 'matched': '3013908', 'bid_size': '200', 'net_pct_change': '.006', 'updated': '03/27/2023 15:58:06', 'end_mkt_day_price': '158.28', 'ask_price': '158.12', 'bid_price': '158.1', 'last': '174.41', 'pre_after_updated': '03/27/2023 17:12:06', 'net_price_change': 'NULL', 'pre_after_price': '158.16', 'net_change': '.01'}, 'pre': {'after_percent_net_change': '-.13', 'after_net_change': '12/19/2017 19:58:07'}}, 'exchange': 'Delayed Data from NSDQ', 'dividend_yield': '.57', 'ticker': 'AAPL', 'last': '158.28', 'ticker_type': 'S', 'zacks_rank_text': 'Hold', 'volume': '49845804', 'updated': 'Mar 27, 2023 04:00 PM', 'percent_net_change': '-1.2293291731669266770670826833073322933', 'zacks_rank': '3', 'name': 'Apple Inc.', 'net_change': '-1.97', 'market_time': 'After', 'previous_close': '158.28', 'SUNGARD_BID': '115.3', 'SUNGARD_YRLOW': '70.51', 'SUNGARD_EARNINGS': '.47', 'SUNGARD_VOLATILITY': '13-NOV-2014', 'SUNGARD_PE_RATIO': '6.45', 'SUNGARD_DAY_LOW': '1.64', 'SUNGARD_MARKET_CAP': '112.75', 'FEED_NET_CHANGE': '26-SEP-2014', 'BATS_PRE_AFTER_UPDATED': '02-DEC-2014', 'SUNGARD_YRHIGH': '119.75', 'SUNGARD_DIVIDEND_FREQ': '000', 'SUNGARD_PREV_CLOSE_DATE': '115.48', 'BATS_ASK_PRICE': '2096014', 'SUNGARD_NAME': 'APPLE INC', 'SUNGARD_TIMESTAMP': '11:50', 'SUNGARD_VOLUME': '', 'SUNGARD_BIDASKSIZE': '13x2', 'SUNGARD_YIELD': 'Q', 'SUNGARD_DAY_HIGH': '.93', 'SUNGARD_ZACKS_RECOMMENDATION': 'S', 'SUNGARD_SHARES': '5', 'SUNGARD_DIVIDEND': '864', 'SUNGARD_DIVIDEND_DATE': '840', 'BATS_BID_SIZE': '100938', 'BATS_BID_PRICE': '520', 'BATS_LAST_TRADE_DATETIME': '99.89', 'FEED_VOLUME': '26-SEP-2014', 'BATS_ASK_SIZE': '02-DEC-2014', 'FEED_TICKER': 'AAPL', 'SUNGARD_POS_SIZE': '100', 'SUNGARD_EXCHANGE': 'NASD', 'SUNGARD_TYPE': '17.88', 'SUNGARD_LAST_TRADE_DATETIME': '02-DEC-2014', 'SUNGARD_UPDATED': '674867.19', 'BATS_ROUTED': '02-DEC-2014', 'BATS_UPDATED': '100', 'FEED_LAST': '99.88', 'FEED_PERCENT_NET_CHANGE': '115.55', 'FEED_SOURCE': '.48', 'BATS_PRE_AFTER_PRICE': '.417', 'SUNGARD_OPEN': '113.5', 'SUNGARD_CLOSE': '115.07', 'SUNGARD_ASK': '115.31', 'BATS_MATCHED': '', 'FEED_UPDATED': '34087164', 'pre_after_net_change': '-.12', 'pre_after_percent_net_change': '-.08', 'company_short_name': 'Apple', 'ap_short_name': 'Apple', 'confirmed_reporting_date': '', 'expected_reporting_date': '1682553600', 'market_status': 'Full Trading Day (Market Closed)', 'ticker_market_status': 'CLOSING PRICES', 'pe_f1': '26.52', 'company_logo_url': 'https://staticx-tuner.zacks.com/images/stocks-thumb/AAPL.png', 'previous_close_date': '03/27/2023'}\n",
      "TSLA : {'source': {'sungard': {'dividend_freq': '', 'bidasksize': '100x200', 'prev_close_date': '03/27/2023 16:00:00', 'timestamp': '15:59', 'exchange': 'NASDAQ', 'shares': '', 'volatility': '2.06', 'zacks_recommendation': '', 'open': '194.415', 'yrlow': '101.81', 'pos_size': '1064710', 'type': 'S', 'yield': '0', 'market_cap': '606906539079', 'dividend': '', 'dividend_date': '', 'earnings': '4.07', 'ask': '191.88', 'day_low': '189.94', 'last_trade_datetime': '03/27/2023 16:00:00', 'close': '190.41', 'volume': '116531584', 'yrhigh': '384.29', 'day_high': '197.39', 'bid': '191.85', 'pe_ratio': '49.52', 'updated': '03/27/2023 16:00:00', 'name': 'Tesla, Inc.'}, 'bats': {'ask_size': '100', 'routed': '68973', 'last_trade_datetime': '03/27/2023 15:58:02', 'matched': '2109839', 'bid_size': '110', 'net_pct_change': '-.016', 'updated': '03/27/2023 15:58:06', 'end_mkt_day_price': '191.81', 'ask_price': '191.87', 'last': '330.97', 'bid_price': '191.84', 'pre_after_updated': '03/27/2023 17:12:06', 'net_price_change': 'NULL', 'pre_after_price': '191.78', 'net_change': '-.03'}, 'pre': {'after_percent_net_change': '-.13', 'after_net_change': '12/19/2017 19:58:07'}}, 'exchange': 'Delayed Data from NSDQ', 'dividend_yield': '0', 'last': '191.81', 'ticker': 'TSLA', 'ticker_type': 'S', 'volume': '119386773', 'updated': 'Mar 27, 2023 04:00 PM', 'zacks_rank_text': 'Hold', 'percent_net_change': '.735255501286697127251719972690509952208', 'zacks_rank': '3', 'name': 'Tesla, Inc.', 'net_change': '1.4', 'market_time': 'After', 'previous_close': '191.81', 'SUNGARD_BID': '231.18', 'SUNGARD_YRLOW': '123.93', 'SUNGARD_EARNINGS': '', 'SUNGARD_VOLATILITY': '0', 'SUNGARD_PE_RATIO': '1.079', 'SUNGARD_DAY_LOW': '0', 'SUNGARD_MARKET_CAP': 'S', 'FEED_NET_CHANGE': '231.18', 'BATS_PRE_AFTER_UPDATED': 'BATS', 'SUNGARD_YRHIGH': '291.42', 'SUNGARD_DIVIDEND_FREQ': '0', 'SUNGARD_PREV_CLOSE_DATE': '228', 'BATS_ASK_PRICE': '4091', 'SUNGARD_NAME': 'TESLA MOTORS INC', 'SUNGARD_TIMESTAMP': '11:50', 'SUNGARD_VOLUME': '', 'SUNGARD_BIDASKSIZE': '2x1', 'SUNGARD_YIELD': '-1.63', 'SUNGARD_DAY_HIGH': '0', 'SUNGARD_ZACKS_RECOMMENDATION': '02-DEC-2014', 'SUNGARD_SHARES': '125', 'SUNGARD_DIVIDEND': '382', 'SUNGARD_DIVIDEND_DATE': '000', 'BATS_BID_SIZE': '100', 'BATS_BID_PRICE': '247.74', 'BATS_LAST_TRADE_DATETIME': '100', 'FEED_VOLUME': '26-SEP-2014', 'FEED_TICKER': 'TSLA', 'SUNGARD_POS_SIZE': '300', 'SUNGARD_EXCHANGE': 'NASD', 'SUNGARD_TYPE': '234.88', 'SUNGARD_LAST_TRADE_DATETIME': '29043.49', 'SUNGARD_UPDATED': '', 'BATS_ROUTED': '02-DEC-2014', 'BATS_ASK_SIZE': '45106', 'BATS_UPDATED': '247.16', 'FEED_LAST': '26-SEP-2014', 'FEED_PERCENT_NET_CHANGE': '3338047', 'FEED_SOURCE': '-.199', 'BATS_PRE_AFTER_PRICE': '02-DEC-2014', 'SUNGARD_OPEN': '234.57', 'SUNGARD_CLOSE': '231.64', 'SUNGARD_ASK': '231.28', 'BATS_MATCHED': '02-DEC-2014', 'FEED_UPDATED': '-.46', 'pre_after_net_change': '-.03', 'pre_after_percent_net_change': '-.02', 'pe_f1': '49.52', 'ticker_market_status': 'CLOSING PRICES', 'market_status': 'Full Trading Day (Market Closed)', 'confirmed_reporting_date': '', 'expected_reporting_date': '1681862400', 'ap_short_name': 'Tesla', 'company_short_name': 'Tesla', 'company_logo_url': 'https://staticx-tuner.zacks.com/images/stocks-thumb/TSLA.png', 'previous_close_date': '03/27/2023'}\n",
      "MRNA : {'source': {'sungard': {'bidasksize': '1600x200', 'dividend_freq': '', 'prev_close_date': '03/27/2023 16:00:00', 'zacks_recommendation': '', 'timestamp': '15:09', 'exchange': 'NASDAQ', 'shares': '', 'volatility': '1.7', 'pos_size': '285304', 'open': '149.8', 'yrlow': '115.03', 'type': 'S', 'yield': '0', 'market_cap': '57215324624', 'ask': '148.8', 'dividend': '', 'dividend_date': '', 'earnings': '19.96', 'close': '150.88', 'day_low': '145.36', 'last_trade_datetime': '03/27/2023 16:00:00', 'volume': '1988889', 'yrhigh': '217.25', 'day_high': '150.38', 'bid': '148.35', 'name': 'Moderna, Inc.', 'pe_ratio': '', 'updated': '03/27/2023 16:00:00'}, 'bats': {'ask_size': '147', 'routed': '2928', 'last_trade_datetime': '03/27/2023 15:58:02', 'matched': '93766', 'bid_size': '67', 'net_pct_change': '-.054', 'updated': '03/27/2023 15:58:07', 'end_mkt_day_price': '148.35', 'ask_price': '148.58', 'bid_price': '148.48', 'last': '', 'pre_after_updated': '03/27/2023 17:12:06', 'net_price_change': 'NULL', 'pre_after_price': '148.27', 'net_change': '-.08'}, 'pre': {'after_percent_net_change': '', 'after_net_change': ''}}, 'exchange': 'Delayed Data from NSDQ', 'dividend_yield': '0', 'last': '148.35', 'ticker': 'MRNA', 'ticker_type': 'S', 'zacks_rank_text': 'Hold', 'volume': '2601405', 'updated': 'Mar 27, 2023 04:00 PM', 'percent_net_change': '-1.6768292682926829268292682926829268293', 'zacks_rank': '3', 'name': 'Moderna, Inc.', 'net_change': '-2.53', 'market_time': 'After', 'previous_close': '148.35', 'SUNGARD_BID': '0', 'SUNGARD_YRLOW': '.23', 'BATS_PRE_AFTER_UPDATED': '', 'SUNGARD_EARNINGS': '', 'SUNGARD_VOLATILITY': '0', 'SUNGARD_PE_RATIO': '1.972', 'SUNGARD_DAY_LOW': '0', 'SUNGARD_MARKET_CAP': 'S', 'FEED_NET_CHANGE': '', 'SUNGARD_YRHIGH': '1.81', 'SUNGARD_DIVIDEND_FREQ': '0', 'SUNGARD_PREV_CLOSE_DATE': '.88', 'BATS_ASK_PRICE': '', 'SUNGARD_ZACKS_RECOMMENDATION': '02-DEC-2014', 'SUNGARD_NAME': 'MARINA BIOTECH CMN', 'SUNGARD_TIMESTAMP': '10:29', 'SUNGARD_VOLUME': '', 'SUNGARD_BIDASKSIZE': '0x0', 'SUNGARD_YIELD': '-3.8', 'SUNGARD_DAY_HIGH': '0', 'FEED_VOLUME': '', 'SUNGARD_SHARES': '25', 'SUNGARD_DIVIDEND': '749', 'SUNGARD_DIVIDEND_DATE': '000', 'BATS_BID_SIZE': '', 'BATS_BID_PRICE': '', 'BATS_LAST_TRADE_DATETIME': '', 'BATS_ROUTED': '02-DEC-2014', 'BATS_ASK_SIZE': '', 'FEED_TICKER': 'MRNA', 'SUNGARD_POS_SIZE': '40', 'SUNGARD_EXCHANGE': 'OTC', 'SUNGARD_TYPE': '.91', 'SUNGARD_LAST_TRADE_DATETIME': '22.66', 'SUNGARD_UPDATED': '', 'BATS_UPDATED': '', 'FEED_LAST': '', 'FEED_PERCENT_NET_CHANGE': '3834', 'FEED_SOURCE': '', 'BATS_PRE_AFTER_PRICE': '', 'SUNGARD_OPEN': '.901', 'SUNGARD_CLOSE': '.88', 'SUNGARD_ASK': '0', 'BATS_MATCHED': '02-DEC-2014', 'FEED_UPDATED': '', 'pre_after_net_change': '-.08', 'pre_after_percent_net_change': '-.05', 'pe_f1': '', 'ticker_market_status': 'CLOSING PRICES', 'market_status': 'Full Trading Day (Market Closed)', 'confirmed_reporting_date': '', 'expected_reporting_date': '1683072000', 'ap_short_name': 'Moderna', 'company_short_name': 'Moderna', 'company_logo_url': 'https://staticx-tuner.zacks.com/images/stocks-thumb/MRNA.png', 'previous_close_date': '03/27/2023'}\n"
     ]
    }
   ],
   "source": [
    "for key, value in z.items():\n",
    "        print(key, \":\", value)"
   ]
  },
  {
   "cell_type": "code",
   "execution_count": 45,
   "metadata": {},
   "outputs": [
    {
     "data": {
      "text/plain": [
       "'3'"
      ]
     },
     "execution_count": 45,
     "metadata": {},
     "output_type": "execute_result"
    }
   ],
   "source": [
    "z[tickers[0]]['zacks_rank']"
   ]
  },
  {
   "cell_type": "code",
   "execution_count": 46,
   "metadata": {},
   "outputs": [
    {
     "data": {
      "text/plain": [
       "'3'"
      ]
     },
     "execution_count": 46,
     "metadata": {},
     "output_type": "execute_result"
    }
   ],
   "source": [
    "z[tickers[1]]['zacks_rank']"
   ]
  },
  {
   "cell_type": "code",
   "execution_count": 47,
   "metadata": {},
   "outputs": [
    {
     "data": {
      "text/plain": [
       "'3'"
      ]
     },
     "execution_count": 47,
     "metadata": {},
     "output_type": "execute_result"
    }
   ],
   "source": [
    "z[tickers[2]]['zacks_rank']"
   ]
  }
 ],
 "metadata": {
  "kernelspec": {
   "display_name": "Python 3",
   "language": "python",
   "name": "python3"
  },
  "language_info": {
   "codemirror_mode": {
    "name": "ipython",
    "version": 3
   },
   "file_extension": ".py",
   "mimetype": "text/x-python",
   "name": "python",
   "nbconvert_exporter": "python",
   "pygments_lexer": "ipython3",
   "version": "3.10.10"
  },
  "orig_nbformat": 4
 },
 "nbformat": 4,
 "nbformat_minor": 2
}
