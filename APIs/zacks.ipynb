{
 "cells": [
  {
   "attachments": {},
   "cell_type": "markdown",
   "metadata": {},
   "source": [
    "# Zacks\n",
    "\n",
    "- https://quote-feed.zacks.com/index?t=AAPL,TSLA"
   ]
  },
  {
   "cell_type": "code",
   "execution_count": 1,
   "metadata": {},
   "outputs": [],
   "source": [
    "import requests\n",
    "from requests.exceptions import HTTPError\n",
    "\n",
    "def zacks(ticker: str):\n",
    "    try:\n",
    "        response = requests.get('https://quote-feed.zacks.com/index?t=' + ticker)\n",
    "        response.raise_for_status()\n",
    "        json = response.json()\n",
    "\n",
    "    except HTTPError as http_err:\n",
    "        print(f'HTTP error occurred: {http_err}')\n",
    "    except Exception as err:\n",
    "        print(f'Other error occurred: {err}')\n",
    "\n",
    "    return json"
   ]
  },
  {
   "cell_type": "code",
   "execution_count": 2,
   "metadata": {},
   "outputs": [],
   "source": [
    "tickers = ['AAPL', 'TSLA', 'MRNA']\n",
    "z = zacks(','.join(tickers))"
   ]
  },
  {
   "cell_type": "code",
   "execution_count": 3,
   "metadata": {},
   "outputs": [
    {
     "name": "stdout",
     "output_type": "stream",
     "text": [
      "AAPL : {'source': {'sungard': {'bidasksize': '300x200', 'dividend_freq': '4', 'prev_close_date': '08/10/2023 16:00:00', 'timestamp': '16:00', 'exchange': 'NASDAQ', 'shares': '', 'volatility': '1.28', 'zacks_recommendation': '', 'pos_size': '3393631', 'open': '179.48', 'yrlow': '124.17', 'type': 'S', 'yield': '.54', 'market_cap': '2782424269040', 'ask': '178.27', 'dividend': '.24', 'dividend_date': '08/17/2023 00:00:00', 'earnings': '5.95', 'close': '178.19', 'day_low': '177.6', 'last_trade_datetime': '08/10/2023 16:00:00', 'volume': '54686852', 'yrhigh': '198.23', 'day_high': '180.75', 'bid': '178.18', 'name': 'Apple Inc.', 'pe_ratio': '29.44', 'updated': '08/10/2023 16:00:00'}, 'bats': {'ask_size': '200', 'routed': '42572', 'last_trade_datetime': '08/11/2023 11:04:17', 'matched': '1021717', 'bid_size': '131', 'net_pct_change': 'NULL', 'updated': '08/11/2023 11:04:18', 'end_mkt_day_price': 'NULL', 'ask_price': '178.17', 'bid_price': '178.16', 'last': '174.41', 'pre_after_updated': '', 'net_price_change': 'NULL', 'pre_after_price': '', 'net_change': 'NULL'}, 'pre': {'after_percent_net_change': '-.13', 'after_net_change': '12/19/2017 19:58:07'}}, 'exchange': 'Real Time Quote from BATS', 'dividend_yield': '.54', 'ticker': 'AAPL', 'last': '178.16', 'ticker_type': 'S', 'zacks_rank_text': 'Hold', 'volume': '54640831', 'updated': 'Aug 11, 2023 11:04 AM', 'percent_net_change': '-.017', 'zacks_rank': '3', 'name': 'Apple Inc.', 'net_change': '-.03', 'market_time': '', 'previous_close': '178.19', 'SUNGARD_BID': '115.3', 'SUNGARD_YRLOW': '70.51', 'SUNGARD_EARNINGS': '.47', 'SUNGARD_VOLATILITY': '13-NOV-2014', 'SUNGARD_PE_RATIO': '6.45', 'SUNGARD_DAY_LOW': '1.64', 'SUNGARD_MARKET_CAP': '112.75', 'FEED_NET_CHANGE': '26-SEP-2014', 'BATS_PRE_AFTER_UPDATED': '02-DEC-2014', 'SUNGARD_YRHIGH': '119.75', 'SUNGARD_DIVIDEND_FREQ': '000', 'SUNGARD_PREV_CLOSE_DATE': '115.48', 'BATS_ASK_PRICE': '2096014', 'SUNGARD_NAME': 'APPLE INC', 'SUNGARD_TIMESTAMP': '11:50', 'SUNGARD_VOLUME': '', 'SUNGARD_BIDASKSIZE': '13x2', 'SUNGARD_YIELD': 'Q', 'SUNGARD_DAY_HIGH': '.93', 'SUNGARD_ZACKS_RECOMMENDATION': 'S', 'SUNGARD_SHARES': '5', 'SUNGARD_DIVIDEND': '864', 'SUNGARD_DIVIDEND_DATE': '840', 'BATS_BID_SIZE': '100938', 'BATS_BID_PRICE': '520', 'BATS_LAST_TRADE_DATETIME': '99.89', 'FEED_VOLUME': '26-SEP-2014', 'BATS_ASK_SIZE': '02-DEC-2014', 'FEED_TICKER': 'AAPL', 'SUNGARD_POS_SIZE': '100', 'SUNGARD_EXCHANGE': 'NASD', 'SUNGARD_TYPE': '17.88', 'SUNGARD_LAST_TRADE_DATETIME': '02-DEC-2014', 'SUNGARD_UPDATED': '674867.19', 'BATS_ROUTED': '02-DEC-2014', 'BATS_UPDATED': '100', 'FEED_LAST': '99.88', 'FEED_PERCENT_NET_CHANGE': '115.55', 'FEED_SOURCE': '.48', 'BATS_PRE_AFTER_PRICE': '.417', 'SUNGARD_OPEN': '113.5', 'SUNGARD_CLOSE': '115.07', 'SUNGARD_ASK': '115.31', 'BATS_MATCHED': '', 'FEED_UPDATED': '34087164', 'pre_after_net_change': '', 'pre_after_percent_net_change': '', 'company_short_name': 'Apple', 'ticker_market_status': 'OPEN PRICES', 'ap_short_name': 'Apple', 'company_logo_url': 'https://staticx-tuner.zacks.com/images/stocks-thumb/AAPL.png', 'confirmed_reporting_date': '', 'pe_f1': '29.44', 'expected_reporting_date': '1698278400', 'market_status': 'Full Trading Day (Market Open)', 'previous_close_date': '08/09/2023'}\n",
      "TSLA : {'source': {'sungard': {'dividend_freq': '', 'bidasksize': '1000x100', 'prev_close_date': '08/10/2023 16:00:00', 'timestamp': '15:59', 'exchange': 'NASDAQ', 'shares': '', 'volatility': '2.07', 'zacks_recommendation': '', 'open': '245.4', 'yrlow': '101.81', 'pos_size': '948706', 'type': 'S', 'yield': '0', 'market_cap': '778707802534', 'dividend': '', 'dividend_date': '', 'earnings': '4', 'ask': '245.75', 'day_low': '242.31', 'last_trade_datetime': '08/10/2023 16:00:00', 'close': '242.19', 'volume': '109498608', 'yrhigh': '314.6667', 'day_high': '251.8', 'bid': '245.65', 'pe_ratio': '70.69', 'updated': '08/10/2023 16:00:00', 'name': 'Tesla, Inc.'}, 'bats': {'ask_size': '50', 'routed': '51189', 'last_trade_datetime': '08/11/2023 11:04:17', 'matched': '1201229', 'bid_size': '150', 'net_pct_change': 'NULL', 'updated': '08/11/2023 11:04:18', 'end_mkt_day_price': 'NULL', 'ask_price': '242.34', 'last': '330.97', 'bid_price': '242.25', 'pre_after_updated': '', 'net_price_change': 'NULL', 'pre_after_price': '', 'net_change': 'NULL'}, 'pre': {'after_percent_net_change': '-.13', 'after_net_change': '12/19/2017 19:58:07'}}, 'exchange': 'Real Time Quote from BATS', 'dividend_yield': '0', 'last': '242.31', 'ticker': 'TSLA', 'ticker_type': 'S', 'volume': '109370002', 'updated': 'Aug 11, 2023 11:04 AM', 'zacks_rank_text': 'Hold', 'percent_net_change': '.05', 'zacks_rank': '3', 'name': 'Tesla, Inc.', 'net_change': '.12', 'market_time': '', 'previous_close': '242.19', 'SUNGARD_BID': '231.18', 'SUNGARD_YRLOW': '123.93', 'SUNGARD_EARNINGS': '', 'SUNGARD_VOLATILITY': '0', 'SUNGARD_PE_RATIO': '1.079', 'SUNGARD_DAY_LOW': '0', 'SUNGARD_MARKET_CAP': 'S', 'FEED_NET_CHANGE': '231.18', 'BATS_PRE_AFTER_UPDATED': 'BATS', 'SUNGARD_YRHIGH': '291.42', 'SUNGARD_DIVIDEND_FREQ': '0', 'SUNGARD_PREV_CLOSE_DATE': '228', 'BATS_ASK_PRICE': '4091', 'SUNGARD_NAME': 'TESLA MOTORS INC', 'SUNGARD_TIMESTAMP': '11:50', 'SUNGARD_VOLUME': '', 'SUNGARD_BIDASKSIZE': '2x1', 'SUNGARD_YIELD': '-1.63', 'SUNGARD_DAY_HIGH': '0', 'SUNGARD_ZACKS_RECOMMENDATION': '02-DEC-2014', 'SUNGARD_SHARES': '125', 'SUNGARD_DIVIDEND': '382', 'SUNGARD_DIVIDEND_DATE': '000', 'BATS_BID_SIZE': '100', 'BATS_BID_PRICE': '247.74', 'BATS_LAST_TRADE_DATETIME': '100', 'FEED_VOLUME': '26-SEP-2014', 'FEED_TICKER': 'TSLA', 'SUNGARD_POS_SIZE': '300', 'SUNGARD_EXCHANGE': 'NASD', 'SUNGARD_TYPE': '234.88', 'SUNGARD_LAST_TRADE_DATETIME': '29043.49', 'SUNGARD_UPDATED': '', 'BATS_ROUTED': '02-DEC-2014', 'BATS_ASK_SIZE': '45106', 'BATS_UPDATED': '247.16', 'FEED_LAST': '26-SEP-2014', 'FEED_PERCENT_NET_CHANGE': '3338047', 'FEED_SOURCE': '-.199', 'BATS_PRE_AFTER_PRICE': '02-DEC-2014', 'SUNGARD_OPEN': '234.57', 'SUNGARD_CLOSE': '231.64', 'SUNGARD_ASK': '231.28', 'BATS_MATCHED': '02-DEC-2014', 'FEED_UPDATED': '-.46', 'pre_after_net_change': '', 'pre_after_percent_net_change': '', 'company_short_name': 'Tesla', 'ticker_market_status': 'OPEN PRICES', 'company_logo_url': 'https://staticx-tuner.zacks.com/images/stocks-thumb/TSLA.png', 'ap_short_name': 'Tesla', 'confirmed_reporting_date': '', 'pe_f1': '70.69', 'expected_reporting_date': '1697587200', 'market_status': 'Full Trading Day (Market Open)', 'previous_close_date': '08/09/2023'}\n",
      "MRNA : {'source': {'sungard': {'bidasksize': '200x300', 'dividend_freq': '', 'prev_close_date': '08/10/2023 15:59:59', 'zacks_recommendation': '', 'timestamp': '15:09', 'exchange': 'NASDAQ', 'shares': '', 'volatility': '1.62', 'pos_size': '500', 'open': '102.88', 'yrlow': '98.43', 'type': 'S', 'yield': '0', 'market_cap': '38173436576', 'ask': '100.4', 'dividend': '', 'dividend_date': '', 'earnings': '2.71', 'close': '101.82', 'day_low': '99.69', 'last_trade_datetime': '08/10/2023 15:59:59', 'volume': '3109635', 'yrhigh': '217.25', 'day_high': '104.17', 'bid': '100.31', 'name': 'Moderna, Inc.', 'pe_ratio': '', 'updated': '08/10/2023 15:59:59'}, 'bats': {'ask_size': '23', 'routed': '1053', 'last_trade_datetime': '08/11/2023 11:04:17', 'matched': '56193', 'bid_size': '100', 'net_pct_change': 'NULL', 'updated': '08/11/2023 11:04:19', 'end_mkt_day_price': 'NULL', 'ask_price': '101.11', 'bid_price': '101.04', 'last': '', 'pre_after_updated': '', 'net_price_change': 'NULL', 'pre_after_price': '', 'net_change': 'NULL'}, 'pre': {'after_percent_net_change': '', 'after_net_change': ''}}, 'exchange': 'Real Time Quote from BATS', 'dividend_yield': '0', 'last': '101.07', 'ticker': 'MRNA', 'ticker_type': 'S', 'zacks_rank_text': 'Hold', 'volume': '3107518', 'updated': 'Aug 11, 2023 11:04 AM', 'percent_net_change': '-.737', 'zacks_rank': '3', 'name': 'Moderna, Inc.', 'net_change': '-.75', 'market_time': '', 'previous_close': '101.82', 'SUNGARD_BID': '0', 'SUNGARD_YRLOW': '.23', 'BATS_PRE_AFTER_UPDATED': '', 'SUNGARD_EARNINGS': '', 'SUNGARD_VOLATILITY': '0', 'SUNGARD_PE_RATIO': '1.972', 'SUNGARD_DAY_LOW': '0', 'SUNGARD_MARKET_CAP': 'S', 'FEED_NET_CHANGE': '', 'SUNGARD_YRHIGH': '1.81', 'SUNGARD_DIVIDEND_FREQ': '0', 'SUNGARD_PREV_CLOSE_DATE': '.88', 'BATS_ASK_PRICE': '', 'SUNGARD_ZACKS_RECOMMENDATION': '02-DEC-2014', 'SUNGARD_NAME': 'MARINA BIOTECH CMN', 'SUNGARD_TIMESTAMP': '10:29', 'SUNGARD_VOLUME': '', 'SUNGARD_BIDASKSIZE': '0x0', 'SUNGARD_YIELD': '-3.8', 'SUNGARD_DAY_HIGH': '0', 'FEED_VOLUME': '', 'SUNGARD_SHARES': '25', 'SUNGARD_DIVIDEND': '749', 'SUNGARD_DIVIDEND_DATE': '000', 'BATS_BID_SIZE': '', 'BATS_BID_PRICE': '', 'BATS_LAST_TRADE_DATETIME': '', 'BATS_ROUTED': '02-DEC-2014', 'BATS_ASK_SIZE': '', 'FEED_TICKER': 'MRNA', 'SUNGARD_POS_SIZE': '40', 'SUNGARD_EXCHANGE': 'OTC', 'SUNGARD_TYPE': '.91', 'SUNGARD_LAST_TRADE_DATETIME': '22.66', 'SUNGARD_UPDATED': '', 'BATS_UPDATED': '', 'FEED_LAST': '', 'FEED_PERCENT_NET_CHANGE': '3834', 'FEED_SOURCE': '', 'BATS_PRE_AFTER_PRICE': '', 'SUNGARD_OPEN': '.901', 'SUNGARD_CLOSE': '.88', 'SUNGARD_ASK': '0', 'BATS_MATCHED': '02-DEC-2014', 'FEED_UPDATED': '', 'pre_after_net_change': '', 'pre_after_percent_net_change': '', 'company_short_name': 'Moderna', 'ticker_market_status': 'OPEN PRICES', 'ap_short_name': 'Moderna', 'company_logo_url': 'https://staticx-tuner.zacks.com/images/stocks-thumb/MRNA.png', 'confirmed_reporting_date': '', 'pe_f1': '', 'expected_reporting_date': '1698883200', 'market_status': 'Full Trading Day (Market Open)', 'previous_close_date': '08/09/2023'}\n"
     ]
    }
   ],
   "source": [
    "for key, value in z.items():\n",
    "        print(key, \":\", value)"
   ]
  },
  {
   "cell_type": "code",
   "execution_count": 4,
   "metadata": {},
   "outputs": [
    {
     "data": {
      "text/plain": [
       "'3'"
      ]
     },
     "execution_count": 4,
     "metadata": {},
     "output_type": "execute_result"
    }
   ],
   "source": [
    "z[tickers[0]]['zacks_rank']"
   ]
  },
  {
   "cell_type": "code",
   "execution_count": 5,
   "metadata": {},
   "outputs": [
    {
     "data": {
      "text/plain": [
       "'3'"
      ]
     },
     "execution_count": 5,
     "metadata": {},
     "output_type": "execute_result"
    }
   ],
   "source": [
    "z[tickers[1]]['zacks_rank']"
   ]
  },
  {
   "cell_type": "code",
   "execution_count": 6,
   "metadata": {},
   "outputs": [
    {
     "data": {
      "text/plain": [
       "'3'"
      ]
     },
     "execution_count": 6,
     "metadata": {},
     "output_type": "execute_result"
    }
   ],
   "source": [
    "z[tickers[2]]['zacks_rank']"
   ]
  },
  {
   "cell_type": "code",
   "execution_count": 12,
   "metadata": {},
   "outputs": [
    {
     "data": {
      "text/plain": [
       "{'LVMUY': {'source': {'sungard': {'bidasksize': '0x0',\n",
       "    'dividend_freq': '2',\n",
       "    'prev_close_date': '08/11/2023 11:02:33',\n",
       "    'timestamp': '15:59',\n",
       "    'exchange': 'NASDAQ Other OTC',\n",
       "    'shares': '',\n",
       "    'volatility': '1.07',\n",
       "    'zacks_recommendation': '',\n",
       "    'pos_size': '15',\n",
       "    'open': '182.94',\n",
       "    'yrlow': '114.26',\n",
       "    'type': 'S',\n",
       "    'yield': '1.37',\n",
       "    'market_cap': '452521325340',\n",
       "    'ask': '',\n",
       "    'dividend': '1.252',\n",
       "    'dividend_date': '05/12/2023 00:00:00',\n",
       "    'earnings': '',\n",
       "    'close': '177.57',\n",
       "    'day_low': '179.54',\n",
       "    'last_trade_datetime': '08/11/2023 11:02:33',\n",
       "    'volume': '125601',\n",
       "    'yrhigh': '200.76',\n",
       "    'day_high': '185.26',\n",
       "    'bid': '',\n",
       "    'name': 'LVMH-Moet Hennessy Louis Vuitton SA',\n",
       "    'pe_ratio': '24.26',\n",
       "    'updated': '08/11/2023 11:02:33'},\n",
       "   'bats': {'ask_size': '',\n",
       "    'routed': '',\n",
       "    'last_trade_datetime': '',\n",
       "    'matched': '',\n",
       "    'bid_size': '',\n",
       "    'net_pct_change': 'NULL',\n",
       "    'updated': '',\n",
       "    'end_mkt_day_price': 'NULL',\n",
       "    'ask_price': '',\n",
       "    'bid_price': '',\n",
       "    'last': '',\n",
       "    'pre_after_updated': '',\n",
       "    'net_price_change': 'NULL',\n",
       "    'pre_after_price': '',\n",
       "    'net_change': 'NULL'},\n",
       "   'pre': {'after_percent_net_change': '', 'after_net_change': ''}},\n",
       "  'exchange': 'Delayed Data from OTC',\n",
       "  'dividend_yield': '1.37',\n",
       "  'last': '180.27',\n",
       "  'ticker': 'LVMUY',\n",
       "  'ticker_type': 'S',\n",
       "  'zacks_rank_text': 'Hold',\n",
       "  'volume': '23988',\n",
       "  'updated': 'Aug 11, 2023 11:02 AM',\n",
       "  'percent_net_change': '-1.021',\n",
       "  'zacks_rank': '3',\n",
       "  'name': 'LVMH-Moet Hennessy Louis Vuitton SA',\n",
       "  'net_change': '-1.86',\n",
       "  'market_time': '',\n",
       "  'previous_close': '177.57',\n",
       "  'SUNGARD_BID': '0',\n",
       "  'SUNGARD_YRLOW': '31.57',\n",
       "  'SUNGARD_PE_RATIO': '0',\n",
       "  'SUNGARD_DAY_LOW': '1.78',\n",
       "  'SUNGARD_MARKET_CAP': '34.58',\n",
       "  'FEED_NET_CHANGE': '',\n",
       "  'BATS_PRE_AFTER_UPDATED': '',\n",
       "  'SUNGARD_EARNINGS': '.3119',\n",
       "  'SUNGARD_VOLATILITY': '26-DEC-2014',\n",
       "  'SUNGARD_PREV_CLOSE_DATE': '35.4',\n",
       "  'BATS_ASK_PRICE': '',\n",
       "  'SUNGARD_YRHIGH': '39.83',\n",
       "  'SUNGARD_DIVIDEND_FREQ': '000',\n",
       "  'SUNGARD_VOLUME': '',\n",
       "  'SUNGARD_BIDASKSIZE': '0x0',\n",
       "  'SUNGARD_YIELD': 'N',\n",
       "  'SUNGARD_DAY_HIGH': '1.18',\n",
       "  'SUNGARD_ZACKS_RECOMMENDATION': 'S',\n",
       "  'SUNGARD_NAME': 'LVMH MOET HENN UNSP',\n",
       "  'SUNGARD_TIMESTAMP': '11:38',\n",
       "  'SUNGARD_DIVIDEND_DATE': '025',\n",
       "  'BATS_BID_SIZE': '',\n",
       "  'BATS_BID_PRICE': '',\n",
       "  'BATS_LAST_TRADE_DATETIME': '',\n",
       "  'FEED_VOLUME': '',\n",
       "  'SUNGARD_SHARES': '2',\n",
       "  'SUNGARD_DIVIDEND': '541',\n",
       "  'SUNGARD_EXCHANGE': 'OTC',\n",
       "  'SUNGARD_TYPE': '0',\n",
       "  'SUNGARD_LAST_TRADE_DATETIME': '02-DEC-2014',\n",
       "  'SUNGARD_UPDATED': '90162.45',\n",
       "  'BATS_ROUTED': '02-DEC-2014',\n",
       "  'BATS_ASK_SIZE': '02-DEC-2014',\n",
       "  'FEED_TICKER': 'LVMUY',\n",
       "  'SUNGARD_POS_SIZE': '56',\n",
       "  'FEED_PERCENT_NET_CHANGE': '',\n",
       "  'FEED_SOURCE': '',\n",
       "  'BATS_PRE_AFTER_PRICE': '',\n",
       "  'BATS_UPDATED': '',\n",
       "  'FEED_LAST': '',\n",
       "  'SUNGARD_ASK': '0',\n",
       "  'BATS_MATCHED': '',\n",
       "  'FEED_UPDATED': '22594',\n",
       "  'SUNGARD_OPEN': '35.2',\n",
       "  'SUNGARD_CLOSE': '35.52',\n",
       "  'pre_after_net_change': '',\n",
       "  'pre_after_percent_net_change': '',\n",
       "  'company_short_name': 'LVMH Moet Hennessy Louis Vuitton',\n",
       "  'ticker_market_status': 'OPEN PRICES',\n",
       "  'ap_short_name': '',\n",
       "  'company_logo_url': 'https://staticx-tuner.zacks.com/images/stocks-thumb/LVMUY.png',\n",
       "  'confirmed_reporting_date': '',\n",
       "  'expected_reporting_date': '',\n",
       "  'pe_f1': '24.26',\n",
       "  'market_status': 'Full Trading Day (Market Open)',\n",
       "  'previous_close_date': '08/10/2023'}}"
      ]
     },
     "execution_count": 12,
     "metadata": {},
     "output_type": "execute_result"
    }
   ],
   "source": [
    "zacks('LVMUY')"
   ]
  }
 ],
 "metadata": {
  "kernelspec": {
   "display_name": "Python 3",
   "language": "python",
   "name": "python3"
  },
  "language_info": {
   "codemirror_mode": {
    "name": "ipython",
    "version": 3
   },
   "file_extension": ".py",
   "mimetype": "text/x-python",
   "name": "python",
   "nbconvert_exporter": "python",
   "pygments_lexer": "ipython3",
   "version": "3.10.10"
  },
  "orig_nbformat": 4
 },
 "nbformat": 4,
 "nbformat_minor": 2
}
