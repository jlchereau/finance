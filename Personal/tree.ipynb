{
 "cells": [
  {
   "attachments": {},
   "cell_type": "markdown",
   "metadata": {},
   "source": [
    "# Decision Tree\n",
    "\n",
    "An example of a Python code that uses a decision tree algorithm to predict the movement of a stock (increase or decrease) based on historical Open, High, Low, Close (OHLC) data and volume data:\n",
    "\n",
    "Source https://quantace.in/decision-trees/"
   ]
  },
  {
   "cell_type": "code",
   "execution_count": null,
   "metadata": {},
   "outputs": [],
   "source": [
    "import pandas as pd\n",
    "from sklearn.tree import DecisionTreeClassifier\n",
    "from sklearn.model_selection import train_test_split\n",
    "from sklearn.metrics import accuracy_score\n",
    "\n",
    "# Load the stock data into a pandas dataframe\n",
    "data = pd.read_csv('stock_data.csv')\n",
    "\n",
    "# Calculate the percentage change values for OHLC\n",
    "data['Open'] = (data['Open'] - data['Close'].shift(1)) / data['Close'].shift(1)\n",
    "data['High'] = (data['High'] - data['Close'].shift(1)) / data['Close'].shift(1)\n",
    "data['Low'] = (data['Low'] - data['Close'].shift(1)) / data['Close'].shift(1)\n",
    "data['Close'] = (data['Close'] - data['Close'].shift(1)) / data['Close'].shift(1)\n",
    "\n",
    "# Define the feature columns (OHLC and volume data)\n",
    "feature_cols = ['Open', 'High', 'Low', 'Close', 'Volume', 'Delivery Volume']\n",
    "\n",
    "# Define the target column (stock movement)\n",
    "target_col = 'Result'\n",
    "\n",
    "# Split the data into training and testing sets\n",
    "X_train, X_test, y_train, y_test = train_test_split(data[feature_cols], data[target_col], test_size=0.3, random_state=1)\n",
    "\n",
    "# Create a decision tree classifier object\n",
    "clf = DecisionTreeClassifier()\n",
    "\n",
    "# Train the classifier on the training data\n",
    "clf.fit(X_train, y_train)\n",
    "\n",
    "# Make predictions on the test data\n",
    "y_pred = clf.predict(X_test)\n",
    "\n",
    "# Calculate the accuracy of the model\n",
    "accuracy = accuracy_score(y_test, y_pred)\n",
    "print(\"Accuracy: \", accuracy)"
   ]
  }
 ],
 "metadata": {
  "language_info": {
   "name": "python"
  },
  "orig_nbformat": 4
 },
 "nbformat": 4,
 "nbformat_minor": 2
}
