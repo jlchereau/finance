{
 "cells": [
  {
   "cell_type": "markdown",
   "metadata": {},
   "source": [
    "# Industries"
   ]
  },
  {
   "cell_type": "code",
   "execution_count": 21,
   "metadata": {},
   "outputs": [],
   "source": [
    "#%pip install --upgrade numpy\n",
    "#%pip install --upgrade pandas\n",
    "#%pip install --upgrade sklearn\n",
    "#%pip install --upgrade scipy"
   ]
  },
  {
   "cell_type": "code",
   "execution_count": 22,
   "metadata": {},
   "outputs": [],
   "source": [
    "import numpy as np\n",
    "import pandas as pd\n",
    "import matplotlib.pyplot as plt"
   ]
  },
  {
   "cell_type": "code",
   "execution_count": 23,
   "metadata": {},
   "outputs": [],
   "source": [
    "ADR_FEATURES_FILE = './data/adr_features.csv'\n",
    "ADR_LABELS_FILE = './data/adr_labels.csv'\n",
    "\n",
    "US_FEATURES_FILE = './data/us_features.csv'\n",
    "US_LABELS_FILE = './data/us_labels.csv'\n",
    "\n",
    "DATA_FILE = './data/us_industries.csv'"
   ]
  },
  {
   "cell_type": "markdown",
   "metadata": {},
   "source": [
    "## Load features and labels"
   ]
  },
  {
   "cell_type": "code",
   "execution_count": 24,
   "metadata": {},
   "outputs": [
    {
     "name": "stdout",
     "output_type": "stream",
     "text": [
      "7146 7146 (7146, 32)\n"
     ]
    }
   ],
   "source": [
    "# -- US --\n",
    "# Load features\n",
    "us_features = pd.read_csv(US_FEATURES_FILE, index_col='ticker')\n",
    "# Load labels (Zack's ranks)\n",
    "us_labels = pd.read_csv(US_LABELS_FILE, index_col='ticker')\n",
    "us_df = pd.concat([us_features, us_labels], axis=1)\n",
    "print(len(us_features), len(us_labels), us_df.shape)"
   ]
  },
  {
   "cell_type": "code",
   "execution_count": 25,
   "metadata": {},
   "outputs": [
    {
     "name": "stdout",
     "output_type": "stream",
     "text": [
      "463 463 (463, 31)\n"
     ]
    }
   ],
   "source": [
    "# -- ADR --\n",
    "# Load features\n",
    "adr_features = pd.read_csv(ADR_FEATURES_FILE, index_col='ticker')\n",
    "# Load labels (Zack's ranks)\n",
    "adr_labels = pd.read_csv(ADR_LABELS_FILE, index_col='ticker')\n",
    "adr_df = pd.concat([adr_features, adr_labels], axis=1)\n",
    "print(len(adr_features), len(adr_labels), adr_df.shape)"
   ]
  },
  {
   "cell_type": "code",
   "execution_count": 26,
   "metadata": {},
   "outputs": [
    {
     "name": "stdout",
     "output_type": "stream",
     "text": [
      "(7146, 32)\n",
      "(463, 31)\n",
      "(7609, 33)\n"
     ]
    }
   ],
   "source": [
    "df = pd.concat([us_df, adr_df], axis=0)\n",
    "print(us_df.shape)\n",
    "print(adr_df.shape)\n",
    "print(df.shape)"
   ]
  },
  {
   "cell_type": "markdown",
   "metadata": {},
   "source": [
    "## Duplicates"
   ]
  },
  {
   "cell_type": "code",
   "execution_count": 27,
   "metadata": {},
   "outputs": [
    {
     "data": {
      "text/plain": [
       "(7209, 33)"
      ]
     },
     "execution_count": 27,
     "metadata": {},
     "output_type": "execute_result"
    }
   ],
   "source": [
    "# identify rows with duplicate indices\n",
    "duplicated_indices = df.index.duplicated()\n",
    "# remove rows with duplicate indices\n",
    "df = df[~duplicated_indices]\n",
    "df.shape"
   ]
  },
  {
   "cell_type": "code",
   "execution_count": 28,
   "metadata": {},
   "outputs": [
    {
     "data": {
      "text/html": [
       "<div>\n",
       "<style scoped>\n",
       "    .dataframe tbody tr th:only-of-type {\n",
       "        vertical-align: middle;\n",
       "    }\n",
       "\n",
       "    .dataframe tbody tr th {\n",
       "        vertical-align: top;\n",
       "    }\n",
       "\n",
       "    .dataframe thead th {\n",
       "        text-align: right;\n",
       "    }\n",
       "</style>\n",
       "<table border=\"1\" class=\"dataframe\">\n",
       "  <thead>\n",
       "    <tr style=\"text-align: right;\">\n",
       "      <th></th>\n",
       "      <th>recommendationMean</th>\n",
       "      <th>numberOfAnalystOpinions</th>\n",
       "      <th>overallRisk</th>\n",
       "      <th>beta</th>\n",
       "      <th>previousClose</th>\n",
       "      <th>trailingEps</th>\n",
       "      <th>forwardEps</th>\n",
       "      <th>trailingPE</th>\n",
       "      <th>forwardPE</th>\n",
       "      <th>pegRatio</th>\n",
       "      <th>...</th>\n",
       "      <th>fiveYearAvgDividendYield</th>\n",
       "      <th>enterpriseValue</th>\n",
       "      <th>freeCashflow</th>\n",
       "      <th>debtToEquity</th>\n",
       "      <th>returnOnAssets</th>\n",
       "      <th>returnOnEquity</th>\n",
       "      <th>quickRatio</th>\n",
       "      <th>currentRatio</th>\n",
       "      <th>zacks_rank</th>\n",
       "      <th>numberOfAnalystOpinionsoverallRisk</th>\n",
       "    </tr>\n",
       "  </thead>\n",
       "  <tbody>\n",
       "    <tr>\n",
       "      <th>count</th>\n",
       "      <td>4752.000000</td>\n",
       "      <td>4477.000000</td>\n",
       "      <td>3491.000000</td>\n",
       "      <td>4903.000000</td>\n",
       "      <td>7124.000000</td>\n",
       "      <td>6353.000000</td>\n",
       "      <td>4811.000000</td>\n",
       "      <td>3257.000000</td>\n",
       "      <td>4817.000000</td>\n",
       "      <td>3063.000000</td>\n",
       "      <td>...</td>\n",
       "      <td>1906.000000</td>\n",
       "      <td>6.271000e+03</td>\n",
       "      <td>4.605000e+03</td>\n",
       "      <td>4427.000000</td>\n",
       "      <td>5379.000000</td>\n",
       "      <td>4977.000000</td>\n",
       "      <td>5192.000000</td>\n",
       "      <td>5197.000000</td>\n",
       "      <td>4112.000000</td>\n",
       "      <td>0.0</td>\n",
       "    </tr>\n",
       "    <tr>\n",
       "      <th>mean</th>\n",
       "      <td>2.227504</td>\n",
       "      <td>7.211749</td>\n",
       "      <td>5.446863</td>\n",
       "      <td>1.036202</td>\n",
       "      <td>35.050753</td>\n",
       "      <td>21.294455</td>\n",
       "      <td>2.381785</td>\n",
       "      <td>inf</td>\n",
       "      <td>inf</td>\n",
       "      <td>38.260509</td>\n",
       "      <td>...</td>\n",
       "      <td>4.307319</td>\n",
       "      <td>2.773058e+10</td>\n",
       "      <td>-5.864939e+07</td>\n",
       "      <td>373.357134</td>\n",
       "      <td>-0.039673</td>\n",
       "      <td>-0.160966</td>\n",
       "      <td>3.259989</td>\n",
       "      <td>4.086141</td>\n",
       "      <td>2.994407</td>\n",
       "      <td>NaN</td>\n",
       "    </tr>\n",
       "    <tr>\n",
       "      <th>std</th>\n",
       "      <td>0.538052</td>\n",
       "      <td>6.656067</td>\n",
       "      <td>2.894461</td>\n",
       "      <td>41.276255</td>\n",
       "      <td>126.456200</td>\n",
       "      <td>1485.740776</td>\n",
       "      <td>10.360006</td>\n",
       "      <td>NaN</td>\n",
       "      <td>NaN</td>\n",
       "      <td>2422.023937</td>\n",
       "      <td>...</td>\n",
       "      <td>3.388737</td>\n",
       "      <td>1.467883e+12</td>\n",
       "      <td>5.332859e+10</td>\n",
       "      <td>6991.958748</td>\n",
       "      <td>0.300651</td>\n",
       "      <td>8.419726</td>\n",
       "      <td>8.760655</td>\n",
       "      <td>9.363906</td>\n",
       "      <td>0.841468</td>\n",
       "      <td>NaN</td>\n",
       "    </tr>\n",
       "    <tr>\n",
       "      <th>min</th>\n",
       "      <td>1.000000</td>\n",
       "      <td>1.000000</td>\n",
       "      <td>1.000000</td>\n",
       "      <td>-2483.194000</td>\n",
       "      <td>0.002300</td>\n",
       "      <td>-15245.860000</td>\n",
       "      <td>-56.200000</td>\n",
       "      <td>0.000049</td>\n",
       "      <td>-6293.500500</td>\n",
       "      <td>-64450.000000</td>\n",
       "      <td>...</td>\n",
       "      <td>0.020000</td>\n",
       "      <td>-4.688778e+13</td>\n",
       "      <td>-2.791764e+12</td>\n",
       "      <td>0.003000</td>\n",
       "      <td>-6.985680</td>\n",
       "      <td>-385.105440</td>\n",
       "      <td>0.000000</td>\n",
       "      <td>0.001000</td>\n",
       "      <td>1.000000</td>\n",
       "      <td>NaN</td>\n",
       "    </tr>\n",
       "    <tr>\n",
       "      <th>25%</th>\n",
       "      <td>2.000000</td>\n",
       "      <td>3.000000</td>\n",
       "      <td>3.000000</td>\n",
       "      <td>0.677693</td>\n",
       "      <td>2.638750</td>\n",
       "      <td>-1.060000</td>\n",
       "      <td>-0.240000</td>\n",
       "      <td>8.905172</td>\n",
       "      <td>-1.258064</td>\n",
       "      <td>-0.030000</td>\n",
       "      <td>...</td>\n",
       "      <td>1.822500</td>\n",
       "      <td>9.269208e+07</td>\n",
       "      <td>-1.876335e+07</td>\n",
       "      <td>14.593000</td>\n",
       "      <td>-0.055590</td>\n",
       "      <td>-0.240900</td>\n",
       "      <td>0.592000</td>\n",
       "      <td>1.039000</td>\n",
       "      <td>3.000000</td>\n",
       "      <td>NaN</td>\n",
       "    </tr>\n",
       "    <tr>\n",
       "      <th>50%</th>\n",
       "      <td>2.100000</td>\n",
       "      <td>5.000000</td>\n",
       "      <td>5.000000</td>\n",
       "      <td>1.049186</td>\n",
       "      <td>10.650000</td>\n",
       "      <td>0.020000</td>\n",
       "      <td>0.810000</td>\n",
       "      <td>17.330477</td>\n",
       "      <td>8.875969</td>\n",
       "      <td>0.950000</td>\n",
       "      <td>...</td>\n",
       "      <td>3.330000</td>\n",
       "      <td>6.376080e+08</td>\n",
       "      <td>7.802250e+06</td>\n",
       "      <td>53.820000</td>\n",
       "      <td>0.012500</td>\n",
       "      <td>0.028020</td>\n",
       "      <td>1.191000</td>\n",
       "      <td>1.811000</td>\n",
       "      <td>3.000000</td>\n",
       "      <td>NaN</td>\n",
       "    </tr>\n",
       "    <tr>\n",
       "      <th>75%</th>\n",
       "      <td>2.600000</td>\n",
       "      <td>10.000000</td>\n",
       "      <td>8.000000</td>\n",
       "      <td>1.454450</td>\n",
       "      <td>28.120000</td>\n",
       "      <td>1.860000</td>\n",
       "      <td>3.165000</td>\n",
       "      <td>35.800000</td>\n",
       "      <td>16.728971</td>\n",
       "      <td>2.220000</td>\n",
       "      <td>...</td>\n",
       "      <td>5.680000</td>\n",
       "      <td>4.257815e+09</td>\n",
       "      <td>1.718175e+08</td>\n",
       "      <td>120.583000</td>\n",
       "      <td>0.046180</td>\n",
       "      <td>0.137720</td>\n",
       "      <td>2.700000</td>\n",
       "      <td>3.632000</td>\n",
       "      <td>3.000000</td>\n",
       "      <td>NaN</td>\n",
       "    </tr>\n",
       "    <tr>\n",
       "      <th>max</th>\n",
       "      <td>5.000000</td>\n",
       "      <td>49.000000</td>\n",
       "      <td>10.000000</td>\n",
       "      <td>1041.709000</td>\n",
       "      <td>6190.990000</td>\n",
       "      <td>110823.520000</td>\n",
       "      <td>455.020000</td>\n",
       "      <td>inf</td>\n",
       "      <td>inf</td>\n",
       "      <td>110145.000000</td>\n",
       "      <td>...</td>\n",
       "      <td>23.940000</td>\n",
       "      <td>5.285289e+13</td>\n",
       "      <td>1.490633e+12</td>\n",
       "      <td>278380.000000</td>\n",
       "      <td>7.273340</td>\n",
       "      <td>201.525270</td>\n",
       "      <td>290.468000</td>\n",
       "      <td>290.468000</td>\n",
       "      <td>5.000000</td>\n",
       "      <td>NaN</td>\n",
       "    </tr>\n",
       "  </tbody>\n",
       "</table>\n",
       "<p>8 rows × 30 columns</p>\n",
       "</div>"
      ],
      "text/plain": [
       "       recommendationMean  numberOfAnalystOpinions  overallRisk         beta  \\\n",
       "count         4752.000000              4477.000000  3491.000000  4903.000000   \n",
       "mean             2.227504                 7.211749     5.446863     1.036202   \n",
       "std              0.538052                 6.656067     2.894461    41.276255   \n",
       "min              1.000000                 1.000000     1.000000 -2483.194000   \n",
       "25%              2.000000                 3.000000     3.000000     0.677693   \n",
       "50%              2.100000                 5.000000     5.000000     1.049186   \n",
       "75%              2.600000                10.000000     8.000000     1.454450   \n",
       "max              5.000000                49.000000    10.000000  1041.709000   \n",
       "\n",
       "       previousClose    trailingEps   forwardEps   trailingPE    forwardPE  \\\n",
       "count    7124.000000    6353.000000  4811.000000  3257.000000  4817.000000   \n",
       "mean       35.050753      21.294455     2.381785          inf          inf   \n",
       "std       126.456200    1485.740776    10.360006          NaN          NaN   \n",
       "min         0.002300  -15245.860000   -56.200000     0.000049 -6293.500500   \n",
       "25%         2.638750      -1.060000    -0.240000     8.905172    -1.258064   \n",
       "50%        10.650000       0.020000     0.810000    17.330477     8.875969   \n",
       "75%        28.120000       1.860000     3.165000    35.800000    16.728971   \n",
       "max      6190.990000  110823.520000   455.020000          inf          inf   \n",
       "\n",
       "            pegRatio  ...  fiveYearAvgDividendYield  enterpriseValue  \\\n",
       "count    3063.000000  ...               1906.000000     6.271000e+03   \n",
       "mean       38.260509  ...                  4.307319     2.773058e+10   \n",
       "std      2422.023937  ...                  3.388737     1.467883e+12   \n",
       "min    -64450.000000  ...                  0.020000    -4.688778e+13   \n",
       "25%        -0.030000  ...                  1.822500     9.269208e+07   \n",
       "50%         0.950000  ...                  3.330000     6.376080e+08   \n",
       "75%         2.220000  ...                  5.680000     4.257815e+09   \n",
       "max    110145.000000  ...                 23.940000     5.285289e+13   \n",
       "\n",
       "       freeCashflow   debtToEquity  returnOnAssets  returnOnEquity  \\\n",
       "count  4.605000e+03    4427.000000     5379.000000     4977.000000   \n",
       "mean  -5.864939e+07     373.357134       -0.039673       -0.160966   \n",
       "std    5.332859e+10    6991.958748        0.300651        8.419726   \n",
       "min   -2.791764e+12       0.003000       -6.985680     -385.105440   \n",
       "25%   -1.876335e+07      14.593000       -0.055590       -0.240900   \n",
       "50%    7.802250e+06      53.820000        0.012500        0.028020   \n",
       "75%    1.718175e+08     120.583000        0.046180        0.137720   \n",
       "max    1.490633e+12  278380.000000        7.273340      201.525270   \n",
       "\n",
       "        quickRatio  currentRatio   zacks_rank  \\\n",
       "count  5192.000000   5197.000000  4112.000000   \n",
       "mean      3.259989      4.086141     2.994407   \n",
       "std       8.760655      9.363906     0.841468   \n",
       "min       0.000000      0.001000     1.000000   \n",
       "25%       0.592000      1.039000     3.000000   \n",
       "50%       1.191000      1.811000     3.000000   \n",
       "75%       2.700000      3.632000     3.000000   \n",
       "max     290.468000    290.468000     5.000000   \n",
       "\n",
       "       numberOfAnalystOpinionsoverallRisk  \n",
       "count                                 0.0  \n",
       "mean                                  NaN  \n",
       "std                                   NaN  \n",
       "min                                   NaN  \n",
       "25%                                   NaN  \n",
       "50%                                   NaN  \n",
       "75%                                   NaN  \n",
       "max                                   NaN  \n",
       "\n",
       "[8 rows x 30 columns]"
      ]
     },
     "execution_count": 28,
     "metadata": {},
     "output_type": "execute_result"
    }
   ],
   "source": [
    "df.describe()"
   ]
  },
  {
   "cell_type": "code",
   "execution_count": 30,
   "metadata": {},
   "outputs": [
    {
     "name": "stderr",
     "output_type": "stream",
     "text": [
      "/var/folders/wc/l9y803l95kzbyc5wb7_4wnmw0000gn/T/ipykernel_34928/1079208308.py:4: SettingWithCopyWarning: \n",
      "A value is trying to be set on a copy of a slice from a DataFrame\n",
      "\n",
      "See the caveats in the documentation: https://pandas.pydata.org/pandas-docs/stable/user_guide/indexing.html#returning-a-view-versus-a-copy\n",
      "  sub_df.dropna(inplace=True)\n"
     ]
    },
    {
     "data": {
      "text/plain": [
       "industry\n",
       "Real Estate—Development     1.666667\n",
       "Residential Construction    1.850000\n",
       "Insurance—Reinsurance       2.000000\n",
       "Publishing                  2.000000\n",
       "Building Materials          2.181818\n",
       "                              ...   \n",
       "REIT—Hotel & Motel          3.625000\n",
       "Agricultural Inputs         3.727273\n",
       "Paper & Paper Products      4.000000\n",
       "Thermal Coal                4.000000\n",
       "Food Distribution           4.000000\n",
       "Name: zacks_rank, Length: 144, dtype: float64"
      ]
     },
     "execution_count": 30,
     "metadata": {},
     "output_type": "execute_result"
    }
   ],
   "source": [
    "#col = 'recommendationMean'\n",
    "col = 'zacks_rank'\n",
    "sub_df = df[['industry', col]]\n",
    "sub_df.dropna(inplace=True)\n",
    "sub_df.groupby(by=['industry'])[col].mean().sort_values()"
   ]
  }
 ],
 "metadata": {
  "kernelspec": {
   "display_name": "Python 3",
   "language": "python",
   "name": "python3"
  },
  "language_info": {
   "codemirror_mode": {
    "name": "ipython",
    "version": 3
   },
   "file_extension": ".py",
   "mimetype": "text/x-python",
   "name": "python",
   "nbconvert_exporter": "python",
   "pygments_lexer": "ipython3",
   "version": "3.9.6"
  },
  "orig_nbformat": 4
 },
 "nbformat": 4,
 "nbformat_minor": 2
}
