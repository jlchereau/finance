{
 "cells": [
  {
   "cell_type": "markdown",
   "metadata": {},
   "source": [
    "# Logistic Regression"
   ]
  },
  {
   "cell_type": "markdown",
   "metadata": {},
   "source": [
    "## Importing Libraries and the Input Data"
   ]
  },
  {
   "cell_type": "code",
   "execution_count": null,
   "metadata": {},
   "outputs": [],
   "source": [
    "import numpy as np\n",
    "import pandas as pd\n",
    "import matplotlib.pyplot as plt\n",
    "import statsmodels.api as sm\n",
    "                                                                                                \n",
    "dcredit = pd.read_excel('Helper_Data.xlsx',sheet_name ='Credit Profile')\n",
    "\n",
    "dcredit\n"
   ]
  },
  {
   "cell_type": "markdown",
   "metadata": {},
   "source": [
    "## Logistic Regression modelling "
   ]
  },
  {
   "cell_type": "code",
   "execution_count": null,
   "metadata": {},
   "outputs": [],
   "source": [
    "# defining the dependent and independent variables\n",
    "Xtrain = dcredit[['Annual_Income', 'Education_Years', 'Age']]\n",
    "#Xtrain = dcredit[[ 'Education_Years', 'Age']]\n",
    "ytrain = dcredit[['Credit_Profile']]\n",
    "\n",
    "# building the model and fitting the data\n",
    "logreg = sm.Logit(ytrain, Xtrain).fit()\n",
    "print(logreg.summary())\n"
   ]
  },
  {
   "cell_type": "markdown",
   "metadata": {},
   "source": [
    "## Testing the model"
   ]
  },
  {
   "cell_type": "code",
   "execution_count": null,
   "metadata": {},
   "outputs": [],
   "source": [
    "xdata = {'Annual_Income':[110000,42000,95000,90000,100000],\n",
    "        'Education_Years':[10,10,16,20,30],\n",
    "        'Age':[30,27,28,40,50]}\n",
    "ydata = {'Credit_Profile':[1,0,1,1,0 ]}\n",
    "\n",
    "xtest = pd.DataFrame(xdata)\n",
    "ytest = pd.DataFrame(ydata)\n",
    "\n",
    "# performing predictions on the test datdaset\n",
    "ypredict = logreg.predict(xtest)\n",
    "print (ypredict)\n",
    "predictions = list(map(round, ypredict))\n",
    "\n",
    "\n",
    "print('Acutal values', list(ytest.Credit_Profile))\n",
    "print('Predictions :', predictions)\n",
    "\n",
    "\n"
   ]
  },
  {
   "cell_type": "markdown",
   "metadata": {},
   "source": [
    "## Confusion matrix"
   ]
  },
  {
   "cell_type": "code",
   "execution_count": null,
   "metadata": {},
   "outputs": [],
   "source": [
    "from sklearn.metrics import (confusion_matrix, accuracy_score)\n",
    "  \n",
    "# confusion matrix\n",
    "cm = confusion_matrix(ytest.Credit_Profile, predictions) \n",
    "print (\"Confusion Matrix : \\n\", cm) \n",
    "  \n",
    "# accuracy score of the model\n",
    "print('Test accuracy = ', accuracy_score(ytest.Credit_Profile, predictions))"
   ]
  },
  {
   "cell_type": "code",
   "execution_count": null,
   "metadata": {},
   "outputs": [],
   "source": []
  }
 ],
 "metadata": {
  "kernelspec": {
   "display_name": "Python 3",
   "language": "python",
   "name": "python3"
  },
  "language_info": {
   "codemirror_mode": {
    "name": "ipython",
    "version": 3
   },
   "file_extension": ".py",
   "mimetype": "text/x-python",
   "name": "python",
   "nbconvert_exporter": "python",
   "pygments_lexer": "ipython3",
   "version": "3.7.6"
  }
 },
 "nbformat": 4,
 "nbformat_minor": 4
}
