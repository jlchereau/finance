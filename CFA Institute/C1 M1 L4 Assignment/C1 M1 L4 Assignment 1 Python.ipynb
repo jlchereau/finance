{
 "cells": [
  {
   "cell_type": "markdown",
   "metadata": {},
   "source": [
    "1. The intention of this assignment is to practice the calculation of the mean, median and mode using a small data set.\n",
    "2. This assignment is not gradeable - it is for practice only.\n",
    "3. Please follow the instructions.\n",
    "4. The data to use in this assignment is shown below:\n",
    "\n",
    "| Index | Year 1 | Year 2 | Year 3 |\n",
    "| :--- | ---: | ---: | ---: |\n",
    "|Country A  | −15.6  |   −5.4   |   6.1 |\n",
    "|Country B  |  7.8   |   6.3    |  −1.5 |\n",
    "|Country C  |  5.3   |   1.2    |   3.5 |\n",
    "|Country D  | −2.4   |  −3.1    |   6.2 |\n",
    "|Country E  | −4.0   |  −3.0    |   3.0 |\n",
    "|Country F  |  5.3   |   2.3    |  -1.0 |\n",
    "|Country G  | -2.1   |  10.2    |  -1.2 |\n",
    "|Country H  |  1.8   |   5.2    |   3.5 |\n",
    "|Country I  |  3.2   |   1.2    |   3.1 |\n",
    "|Country J  |  4.2   |   2.2    |  -0.9 |\n",
    "|Country K  | -2.2   |   3.4    |   1.2 |\n"
   ]
  },
  {
   "cell_type": "markdown",
   "metadata": {},
   "source": [
    "#### TASK 1\n",
    "\n",
    "Calculate, using 'statistics', the median and mode of countries A to K for Year 1."
   ]
  },
  {
   "cell_type": "code",
   "execution_count": null,
   "metadata": {},
   "outputs": [],
   "source": [
    "# Type your code for TASK 1 below this comment. Use the \"Run\" button on the tool bar above to run it"
   ]
  },
  {
   "cell_type": "markdown",
   "metadata": {
    "solution2": "hidden",
    "solution2_first": true
   },
   "source": [
    "Click the button below to show the instructor's solution for TASK 1"
   ]
  },
  {
   "cell_type": "code",
   "execution_count": null,
   "metadata": {
    "deletable": false,
    "editable": false,
    "nbgrader": {
     "cell_type": "code",
     "checksum": "a8de770fa336eeb2b56a418f98a56b4a",
     "grade": false,
     "grade_id": "instructor-practice1",
     "locked": true,
     "schema_version": 3,
     "solution": false,
     "task": false
    },
    "solution2": "hidden"
   },
   "outputs": [],
   "source": [
    "import statistics\n",
    "data=[-15.6,7.8,5.3,-2.4,-4.0,5.3,-2.1,1.8,3.2,4.2,-2.2]\n",
    "x=statistics.median(data)\n",
    "y=statistics.mode(data)\n",
    "print(x,y)"
   ]
  },
  {
   "cell_type": "markdown",
   "metadata": {},
   "source": [
    "#### TASK 2\n",
    "\n",
    "Calculate, using 'numpy', the median of countries A to K for Years 2 and 3. Let data2 = data for year 2 and data3 = data for year 3."
   ]
  },
  {
   "cell_type": "code",
   "execution_count": null,
   "metadata": {},
   "outputs": [],
   "source": [
    "# Type your code for TASK 2 below this comment. Use the \"Run\" button on the tool bar above to run it"
   ]
  },
  {
   "cell_type": "markdown",
   "metadata": {
    "solution2": "hidden",
    "solution2_first": true
   },
   "source": [
    "\n",
    "Click the button below to show the instructor's solution for TASK 2"
   ]
  },
  {
   "cell_type": "code",
   "execution_count": null,
   "metadata": {
    "deletable": false,
    "editable": false,
    "nbgrader": {
     "cell_type": "code",
     "checksum": "5e170344297662869440dac9e90722bc",
     "grade": false,
     "grade_id": "instructor-practice2",
     "locked": true,
     "schema_version": 3,
     "solution": false,
     "task": false
    },
    "solution2": "hidden"
   },
   "outputs": [],
   "source": [
    "import numpy as np\n",
    "data2=[-5.4,6.3,1.2,-3.1,-3.0,2.3,10.2,5.2,1.2,2.2,3.4]\n",
    "data3=[6.1,-1.5,3.5,6.2,3.0,-1.0,-1.2,3.5,3.1,-0.9, 1.2]\n",
    "x=np.median(data2)\n",
    "y=np.median(data3)\n",
    "print(x,y) "
   ]
  },
  {
   "cell_type": "markdown",
   "metadata": {},
   "source": [
    "#### TASK 3\n",
    "\n",
    "Calculate, using 'statistics' the mean, median and mode for countries A to K for Year 3"
   ]
  },
  {
   "cell_type": "code",
   "execution_count": null,
   "metadata": {},
   "outputs": [],
   "source": [
    "# Type your code for TASK 3 below this comment. Use the \"Run\" button on the tool bar above to run it"
   ]
  },
  {
   "cell_type": "markdown",
   "metadata": {
    "solution2": "hidden",
    "solution2_first": true
   },
   "source": [
    "Click the button below to show the instructor's solution for TASK 3"
   ]
  },
  {
   "cell_type": "code",
   "execution_count": null,
   "metadata": {
    "deletable": false,
    "editable": false,
    "nbgrader": {
     "cell_type": "code",
     "checksum": "b50506b6861f2f81755edb1dcd4de7a8",
     "grade": false,
     "grade_id": "instructor-practice3",
     "locked": true,
     "schema_version": 3,
     "solution": false,
     "task": false
    },
    "solution2": "hidden"
   },
   "outputs": [],
   "source": [
    "import statistics\n",
    "data=[6.1,-1.5,3.5,6.2,3.0,-1.0,-1.2,3.5,3.1,-0.9,1.2]\n",
    "x=statistics.mean(data)\n",
    "y=statistics.median(data)\n",
    "z=statistics.mode(data)\n",
    "print(x,y,z)"
   ]
  }
 ],
 "metadata": {
  "kernelspec": {
   "display_name": "Python 3",
   "language": "python",
   "name": "python3"
  },
  "language_info": {
   "codemirror_mode": {
    "name": "ipython",
    "version": 3
   },
   "file_extension": ".py",
   "mimetype": "text/x-python",
   "name": "python",
   "nbconvert_exporter": "python",
   "pygments_lexer": "ipython3",
   "version": "3.7.6"
  }
 },
 "nbformat": 4,
 "nbformat_minor": 5
}
