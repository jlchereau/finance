{
 "cells": [
  {
   "cell_type": "markdown",
   "metadata": {},
   "source": [
    "# Assignment Module 4: Logistic Regression"
   ]
  },
  {
   "cell_type": "markdown",
   "metadata": {},
   "source": [
    "## Instructions\n",
    "We learnt how Python could be used for finding a solution to logistic regression problems.\n",
    "In this assignment we will be using the exact same input file we used in the lesson.\n",
    "To recap, this input file contains, Credit_Profile, Annual Income, Education Years and Age data for a cross section of people. The input file is in an excel format. \n",
    "Assuming that Annual Income, Education Years and Age (the independent variables) adequately define if a Credit Profile (the independent variable) is loan worthy (1) or not (0), this program estimate the coefficients and the intercept term for this equation using the logit model from the statsmodels.api library. \n",
    "This part was illustrated in the lesson. \n",
    "In this assignment, the program code flow is exactly the same till the training/ modelling stage. No inputs are required from learners till the training/ modelling stage.\n",
    "In the testing stage however, learners would need to add 2 lines of code to predict probabilities of credit profiles given input values for the indepdendent variable.\n",
    "\n",
    "Just to recap the starting point in the logistic regression equation is:\n",
    "\n",
    "log (probability of odds for Credit_Profile) = constant + coeffficient_1 * Annual_Income + coefficient_2 * Education_Years + coefficient_3 * Age"
   ]
  },
  {
   "cell_type": "markdown",
   "metadata": {},
   "source": [
    "NOTE: You must run each code cell below, in order from top to bottom, to prepare for the coding exercise. These create variables when are then available to any code cell."
   ]
  },
  {
   "cell_type": "code",
   "execution_count": null,
   "metadata": {},
   "outputs": [],
   "source": [
    "#import the required libraries\n",
    "\n",
    "import numpy as np\n",
    "import pandas as pd\n",
    "import matplotlib.pyplot as plt\n",
    "import statsmodels.api as sm\n",
    "\n",
    "#Read the input files \n",
    "    \n",
    "dcredit = pd.read_excel('Helper_Data.xlsx',sheet_name ='Credit Profile')\n",
    "dcredit\n"
   ]
  },
  {
   "cell_type": "markdown",
   "metadata": {},
   "source": [
    "## Logistic Regression modelling "
   ]
  },
  {
   "cell_type": "code",
   "execution_count": null,
   "metadata": {},
   "outputs": [],
   "source": [
    "# No coding required from learners here\n",
    "\n",
    "# defining the dependent and independent variables\n",
    "Xtrain = dcredit[['Annual_Income', 'Education_Years', 'Age']]\n",
    "#Xtrain = dcredit[[ 'Education_Years', 'Age']]\n",
    "ytrain = dcredit[['Credit_Profile']]\n",
    "\n",
    "# building the model and fitting the data\n",
    "logreg = sm.Logit(ytrain, Xtrain).fit()\n",
    "print(logreg.summary())\n"
   ]
  },
  {
   "cell_type": "markdown",
   "metadata": {},
   "source": [
    "## Testing the model"
   ]
  },
  {
   "cell_type": "code",
   "execution_count": null,
   "metadata": {},
   "outputs": [],
   "source": [
    "# This is the input test data\n",
    "# No coding required here\n",
    "\n",
    "xdata = {'Annual_Income':[100000,40000,90000,80000,90000],\n",
    "        'Education_Years':[9,9,15,19,29],\n",
    "        'Age':[29,26,27,39,49]}\n",
    "ydata = {'Credit_Profile':[1,0,1,1,0 ]}\n",
    "\n",
    "xtest = pd.DataFrame(xdata)\n",
    "ytest = pd.DataFrame(ydata)\n",
    "\n",
    "## Coding required in the exercise below to perform the predictions\n",
    "\n",
    "## Hint: use logreg.predict to predict actual values and assign it to a variable, say ypredict\n",
    "## Hint: Having computed the predicted values, just use the print function to print ypredict\n",
    "## Note that the probabilities (in percentage terms are quite high) except for one (second) reading \n",
    "## of Annual income = 40000. For this reading the prediction is 12.4% probability of a loan worthy credit profile\n",
    "## Since 12.4% is less than 50%, the prediction is that the data set with \n",
    "## Annual income = 40000 Education years = 9, Age = 26, the loan worthiness is 0 (that is not loan worthy)\n",
    "## So the actual value for Annual income = 40000 Education years = 9, Age = 26, matches the predicted value\n",
    "## If in doubt, please refer to the code in Module 4 lesson 6."
   ]
  },
  {
   "cell_type": "markdown",
   "metadata": {},
   "source": [
    "If you have run all of the code examples above, in the order shown, then all the variables created are now available\n",
    "to any other code cells in this notebook."
   ]
  },
  {
   "cell_type": "code",
   "execution_count": null,
   "metadata": {},
   "outputs": [],
   "source": [
    "# In this code cell, just below this comment, type the code statements to perform the predictions and print them."
   ]
  },
  {
   "cell_type": "markdown",
   "metadata": {
    "solution2": "hidden",
    "solution2_first": true
   },
   "source": [
    "Click the button below to see the instructor's solution. Use the \"Run\" button in the toolbar to run it.\n",
    "Remember that all the code cells above must be run first."
   ]
  },
  {
   "cell_type": "code",
   "execution_count": null,
   "metadata": {
    "deletable": false,
    "editable": false,
    "nbgrader": {
     "cell_type": "code",
     "checksum": "66bf071508c859f1e953c13124b71989",
     "grade": false,
     "grade_id": "instructor-prediction",
     "locked": true,
     "schema_version": 3,
     "solution": false,
     "task": false
    },
    "solution2": "hidden"
   },
   "outputs": [],
   "source": [
    "ypredict = logreg.predict(xtest)\n",
    "print(ypredict)"
   ]
  },
  {
   "cell_type": "markdown",
   "metadata": {},
   "source": [
    "Click the button below to see the *complete* solution. Use the \"Run\" button in the toolbar to run it."
   ]
  },
  {
   "cell_type": "markdown",
   "metadata": {
    "solution": "hidden",
    "solution2": "hidden",
    "solution2_first": true,
    "solution_first": true
   },
   "source": [
    " "
   ]
  },
  {
   "cell_type": "code",
   "execution_count": null,
   "metadata": {
    "deletable": false,
    "editable": false,
    "nbgrader": {
     "cell_type": "code",
     "checksum": "d6b76d1d139c051bc2daab69039626a6",
     "grade": false,
     "grade_id": "instructor-complete",
     "locked": true,
     "schema_version": 3,
     "solution": false,
     "task": false
    },
    "solution2": "hidden"
   },
   "outputs": [],
   "source": [
    "# import the required libraries\n",
    "import numpy as np\n",
    "import pandas as pd\n",
    "import matplotlib.pyplot as plt\n",
    "import statsmodels.api as sm\n",
    "\n",
    "# read the input file    \n",
    "dcredit = pd.read_excel('Helper_Data.xlsx',sheet_name ='Credit Profile')\n",
    "\n",
    "# define the independent and dependent variables\n",
    "Xtrain = dcredit[['Annual_Income', 'Education_Years', 'Age']]    \n",
    "ytrain = dcredit[['Credit_Profile']]\n",
    "\n",
    "# build the model and fit the data\n",
    "logreg = sm.Logit(ytrain, Xtrain).fit()\n",
    "\n",
    "# Input test data\n",
    "xdata = {'Annual_Income':[100000,40000,90000,80000,90000],\n",
    "        'Education_Years':[9,9,15,19,29],\n",
    "        'Age':[29,26,27,39,49]}\n",
    "ydata = {'Credit_Profile':[1,0,1,1,0 ]}\n",
    "\n",
    "xtest = pd.DataFrame(xdata)\n",
    "ytest = pd.DataFrame(ydata)\n",
    "\n",
    "# perform the prediction and print\n",
    "ypredict = logreg.predict(xtest)\n",
    "print(ypredict)"
   ]
  }
 ],
 "metadata": {
  "kernelspec": {
   "display_name": "Python 3",
   "language": "python",
   "name": "python3"
  },
  "language_info": {
   "codemirror_mode": {
    "name": "ipython",
    "version": 3
   },
   "file_extension": ".py",
   "mimetype": "text/x-python",
   "name": "python",
   "nbconvert_exporter": "python",
   "pygments_lexer": "ipython3",
   "version": "3.7.6"
  }
 },
 "nbformat": 4,
 "nbformat_minor": 4
}
