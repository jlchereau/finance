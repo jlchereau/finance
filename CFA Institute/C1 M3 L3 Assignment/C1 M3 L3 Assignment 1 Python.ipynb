{
 "cells": [
  {
   "attachments": {},
   "cell_type": "markdown",
   "metadata": {},
   "source": [
    "# Binomial Distribition"
   ]
  },
  {
   "attachments": {},
   "cell_type": "markdown",
   "metadata": {},
   "source": [
    "You have assigned $500 million to a new money manager and believe it is reasonable to expect that they will keep the portfolio return within 75 basis points (0.75%) of the benchmark’s return, on a quarterly basis. You will be satisfied if the manager achieves this 90% of the time. The manager meets the objective in six out of eight quarters, which is a 75% success rate. Assuming the manager has the skill you want, what is the probability of the manager producing the result they did? (Please answer in the format 00.0%)."
   ]
  },
  {
   "cell_type": "code",
   "execution_count": 10,
   "metadata": {},
   "outputs": [
    {
     "name": "stdout",
     "output_type": "stream",
     "text": [
      "0.6785430908203126\n"
     ]
    }
   ],
   "source": [
    "from scipy import stats\n",
    "# k - number of successes\n",
    "k=6\n",
    "# n - number of trials\n",
    "n=8\n",
    "# p - probability of success\n",
    "p=0.75\n",
    "# calculate probability\n",
    "x=sum(stats.binom.pmf([k,k+1,k+2], n, p)) # This is FALSE\n",
    "print(x)"
   ]
  },
  {
   "attachments": {},
   "cell_type": "markdown",
   "metadata": {},
   "source": [
    "A portfolio manager annually outperforms her benchmark 60% of the time. Assuming independent annual trials, what is the probability that she will outperform her benchmark four or more times over the next five years?"
   ]
  },
  {
   "cell_type": "code",
   "execution_count": 4,
   "metadata": {},
   "outputs": [
    {
     "name": "stdout",
     "output_type": "stream",
     "text": [
      "0.3369600000000001\n"
     ]
    }
   ],
   "source": [
    "from scipy import stats\n",
    "# k - number of successes\n",
    "k=4\n",
    "# n - number of trials\n",
    "n=5\n",
    "# p - probability of success\n",
    "p=0.6\n",
    "# calculate probability\n",
    "x=sum(stats.binom.pmf([k, k+1], n, p))\n",
    "print(x)"
   ]
  },
  {
   "attachments": {},
   "cell_type": "markdown",
   "metadata": {},
   "source": [
    "# Decision Trees"
   ]
  },
  {
   "cell_type": "code",
   "execution_count": 13,
   "metadata": {},
   "outputs": [
    {
     "name": "stdout",
     "output_type": "stream",
     "text": [
      "[0 1 2]\n",
      "[0.25 0.5  0.25]\n"
     ]
    }
   ],
   "source": [
    "from scipy import stats\n",
    "import numpy as np\n",
    "# n - number of trials\n",
    "n=3\n",
    "# p - probability of success\n",
    "p=1/2\n",
    "# k - number of successes\n",
    "k=np.arange(n+1)\n",
    "print(k)\n",
    "# calculate probability\n",
    "x=stats.binom.pmf(k, n, p)\n",
    "print(x)"
   ]
  },
  {
   "cell_type": "code",
   "execution_count": 16,
   "metadata": {},
   "outputs": [
    {
     "name": "stdout",
     "output_type": "stream",
     "text": [
      "5\n",
      "0.10291934519999998\n"
     ]
    }
   ],
   "source": [
    "from scipy import stats\n",
    "import numpy as np\n",
    "# n - number of trials\n",
    "n=10\n",
    "# p - probability of success\n",
    "p=0.7\n",
    "# k - number of successes\n",
    "k=5\n",
    "print(k)\n",
    "# calculate probability\n",
    "x=stats.binom.pmf(k, n, p)\n",
    "print(x)"
   ]
  }
 ],
 "metadata": {
  "kernelspec": {
   "display_name": "Python 3",
   "language": "python",
   "name": "python3"
  },
  "language_info": {
   "codemirror_mode": {
    "name": "ipython",
    "version": 3
   },
   "file_extension": ".py",
   "mimetype": "text/x-python",
   "name": "python",
   "nbconvert_exporter": "python",
   "pygments_lexer": "ipython3",
   "version": "3.10.7 (tags/v3.10.7:6cc6b13, Sep  5 2022, 14:08:36) [MSC v.1933 64 bit (AMD64)]"
  },
  "orig_nbformat": 4,
  "vscode": {
   "interpreter": {
    "hash": "b097f3fa41e6bceb2d7c2d000cd2789e9ecbb2a3b32d58638edc5a9c6f6f8b83"
   }
  }
 },
 "nbformat": 4,
 "nbformat_minor": 2
}
