{
 "cells": [
  {
   "cell_type": "markdown",
   "metadata": {},
   "source": [
    "1. The intention of this assignment is to practice the calculation of the mean using a small data set.\n",
    "2. This assignment is not gradeable - it is for practice only.\n",
    "3. Please follow the instructions.\n",
    "4. The data to use in this assignment is shown below.\n",
    "\n",
    "| Index  | Year 1 | Year 2 | Year 3 |\n",
    "| :--- |  ---: |  ---: |  ---: |\n",
    "| Country A | 3.5 | 6.3 | 3.3 |\n",
    "| Country B |-1.2 | 1.4 | -0.9|\n",
    "| Country C | 2.1 | 4.2 | 2.4 |\n",
    "| Country D |-1.4 | 3.1 | 1.6 |\n",
    "| Country E | 2.6 |-1.5 | 2.2 |"
   ]
  },
  {
   "cell_type": "markdown",
   "metadata": {},
   "source": [
    "#### TASK 1\n",
    "\n",
    "Using 'statistics' calculate the arithmetic mean of the five countries' returns for year 1"
   ]
  },
  {
   "cell_type": "code",
   "execution_count": null,
   "metadata": {},
   "outputs": [],
   "source": [
    "# Type your code for TASK 1 below this comment. Use the \"Run\" button on the tool bar above to run it\n",
    "import statistics\n",
    "data=[3.5,-1.2,2.1,-1.4,2.6]\n",
    "x=statistics.mean(data)\n",
    "print(x)"
   ]
  },
  {
   "cell_type": "markdown",
   "metadata": {
    "solution2": "hidden",
    "solution2_first": true
   },
   "source": [
    "Click the button below to see the instructor's solution for TASK 1"
   ]
  },
  {
   "cell_type": "code",
   "execution_count": 2,
   "metadata": {
    "deletable": false,
    "editable": false,
    "nbgrader": {
     "cell_type": "code",
     "checksum": "4437c4d1ac4be36e92e3a0985c40e7e1",
     "grade": false,
     "grade_id": "instructor-statistics-arith-mean",
     "locked": true,
     "schema_version": 3,
     "solution": false,
     "task": false
    },
    "solution2": "hidden"
   },
   "outputs": [
    {
     "ename": "StatisticsError",
     "evalue": "geometric mean requires a non-empty dataset containing positive numbers",
     "output_type": "error",
     "traceback": [
      "\u001b[1;31m---------------------------------------------------------------------------\u001b[0m",
      "\u001b[1;31mStatisticsError\u001b[0m                           Traceback (most recent call last)",
      "\u001b[1;32mc:\\Users\\jlche\\OneDrive\\GitHub\\python\\cfa\\M1 L3 Assignment\\C1 M1 L3 Assignment 1 Python.ipynb Cell 5\u001b[0m in \u001b[0;36m<module>\u001b[1;34m\u001b[0m\n\u001b[0;32m      <a href='vscode-notebook-cell:/c%3A/Users/jlche/OneDrive/GitHub/python/cfa/M1%20L3%20Assignment/C1%20M1%20L3%20Assignment%201%20Python.ipynb#W4sZmlsZQ%3D%3D?line=0'>1</a>\u001b[0m \u001b[39mimport\u001b[39;00m \u001b[39mstatistics\u001b[39;00m\n\u001b[0;32m      <a href='vscode-notebook-cell:/c%3A/Users/jlche/OneDrive/GitHub/python/cfa/M1%20L3%20Assignment/C1%20M1%20L3%20Assignment%201%20Python.ipynb#W4sZmlsZQ%3D%3D?line=1'>2</a>\u001b[0m data\u001b[39m=\u001b[39m[\u001b[39m3.5\u001b[39m,\u001b[39m-\u001b[39m\u001b[39m1.2\u001b[39m,\u001b[39m2.1\u001b[39m,\u001b[39m-\u001b[39m\u001b[39m1.4\u001b[39m,\u001b[39m2.6\u001b[39m]\n\u001b[1;32m----> <a href='vscode-notebook-cell:/c%3A/Users/jlche/OneDrive/GitHub/python/cfa/M1%20L3%20Assignment/C1%20M1%20L3%20Assignment%201%20Python.ipynb#W4sZmlsZQ%3D%3D?line=2'>3</a>\u001b[0m x\u001b[39m=\u001b[39mstatistics\u001b[39m.\u001b[39;49mgeometric_mean(data)\n\u001b[0;32m      <a href='vscode-notebook-cell:/c%3A/Users/jlche/OneDrive/GitHub/python/cfa/M1%20L3%20Assignment/C1%20M1%20L3%20Assignment%201%20Python.ipynb#W4sZmlsZQ%3D%3D?line=3'>4</a>\u001b[0m \u001b[39mprint\u001b[39m(x)\n",
      "File \u001b[1;32mc:\\Users\\jlche\\AppData\\Local\\Programs\\Python\\Python310\\lib\\statistics.py:376\u001b[0m, in \u001b[0;36mgeometric_mean\u001b[1;34m(data)\u001b[0m\n\u001b[0;32m    374\u001b[0m     \u001b[39mreturn\u001b[39;00m exp(fmean(\u001b[39mmap\u001b[39m(log, data)))\n\u001b[0;32m    375\u001b[0m \u001b[39mexcept\u001b[39;00m \u001b[39mValueError\u001b[39;00m:\n\u001b[1;32m--> 376\u001b[0m     \u001b[39mraise\u001b[39;00m StatisticsError(\u001b[39m'\u001b[39m\u001b[39mgeometric mean requires a non-empty dataset \u001b[39m\u001b[39m'\u001b[39m\n\u001b[0;32m    377\u001b[0m                           \u001b[39m'\u001b[39m\u001b[39mcontaining positive numbers\u001b[39m\u001b[39m'\u001b[39m) \u001b[39mfrom\u001b[39;00m \u001b[39mNone\u001b[39m\n",
      "\u001b[1;31mStatisticsError\u001b[0m: geometric mean requires a non-empty dataset containing positive numbers"
     ]
    }
   ],
   "source": [
    "import statistics\n",
    "data=[3.5,-1.2,2.1,-1.4,2.6]\n",
    "x=statistics.mean(data)\n",
    "print(x)"
   ]
  },
  {
   "cell_type": "markdown",
   "metadata": {},
   "source": [
    "#### TASK 2\n",
    "\n",
    "Using 'numpy' calculate the arithmetic mean of the five countries' returns for year 2"
   ]
  },
  {
   "cell_type": "code",
   "execution_count": null,
   "metadata": {},
   "outputs": [],
   "source": [
    "# Type your code for TASK 2 below this comment. Use the \"Run\" button on the tool bar above to run it\n",
    "import numpy as np\n",
    "data=[6.3,1.4,4.2,3.1,-1.5]\n",
    "x=np.mean(data)\n",
    "print(x)"
   ]
  },
  {
   "cell_type": "markdown",
   "metadata": {
    "solution2": "hidden",
    "solution2_first": true
   },
   "source": [
    "Click the button below to see the instructor's solution for TASK 2"
   ]
  },
  {
   "cell_type": "code",
   "execution_count": 4,
   "metadata": {
    "deletable": false,
    "editable": false,
    "nbgrader": {
     "cell_type": "code",
     "checksum": "56bd74d6a2f5fd0a8a0a7ffa48f48235",
     "grade": false,
     "grade_id": "instructor-numpy-arith-mean",
     "locked": true,
     "schema_version": 3,
     "solution": false,
     "task": false
    },
    "solution2": "hidden"
   },
   "outputs": [
    {
     "name": "stdout",
     "output_type": "stream",
     "text": [
      "2.6999999999999997\n"
     ]
    }
   ],
   "source": [
    "import numpy as np\n",
    "data=[6.3,1.4,4.2,3.1,-1.5]\n",
    "x=np.mean(data)\n",
    "print(x)\n"
   ]
  },
  {
   "cell_type": "markdown",
   "metadata": {},
   "source": [
    "#### TASK 3\n",
    "\n",
    "Using 'statistics' calculate the arithmetic mean of the five countries' returns for all three years.Let data1=data for year 1, data2=data for year 2 and data3=data for year 3."
   ]
  },
  {
   "cell_type": "code",
   "execution_count": null,
   "metadata": {},
   "outputs": [],
   "source": [
    "# Type your code for TASK 3 below this comment. Use the \"Run\" button on the tool bar above to run it\n",
    "import statistics\n",
    "data1=[3.5,-1.2,2.1,-1.4,2.6]\n",
    "data2=[6.3,1.4,4.2,3.1,-1.5]\n",
    "data3=[3.3,-0.9,2.4,1.6,2.2]\n",
    "x=statistics.mean(data1)\n",
    "y=statistics.mean(data2)\n",
    "z=statistics.mean(data3)\n",
    "print(x,y,z)"
   ]
  },
  {
   "cell_type": "markdown",
   "metadata": {
    "solution2": "hidden",
    "solution2_first": true
   },
   "source": [
    "Click the button below to see the instructor's solution for TASK 3"
   ]
  },
  {
   "cell_type": "code",
   "execution_count": null,
   "metadata": {
    "deletable": false,
    "editable": false,
    "nbgrader": {
     "cell_type": "code",
     "checksum": "8999dc44049baa642de525ccbf8a7ef7",
     "grade": false,
     "grade_id": "instructor-mean-3years",
     "locked": true,
     "schema_version": 3,
     "solution": false,
     "task": false
    },
    "solution2": "hidden"
   },
   "outputs": [],
   "source": [
    "import statistics\n",
    "data1=[3.5,-1.2,2.1,-1.4,2.6]\n",
    "data2=[6.3,1.4,4.2,3.1,-1.5]\n",
    "data3=[3.3,-0.9,2.4,1.6,2.2]\n",
    "x=statistics.mean(data1)\n",
    "y=statistics.mean(data2)\n",
    "z=statistics.mean(data3)\n",
    "print(x,y,z)"
   ]
  }
 ],
 "metadata": {
  "kernelspec": {
   "display_name": "Python 3",
   "language": "python",
   "name": "python3"
  },
  "language_info": {
   "codemirror_mode": {
    "name": "ipython",
    "version": 3
   },
   "file_extension": ".py",
   "mimetype": "text/x-python",
   "name": "python",
   "nbconvert_exporter": "python",
   "pygments_lexer": "ipython3",
   "version": "3.10.7"
  },
  "vscode": {
   "interpreter": {
    "hash": "b097f3fa41e6bceb2d7c2d000cd2789e9ecbb2a3b32d58638edc5a9c6f6f8b83"
   }
  }
 },
 "nbformat": 4,
 "nbformat_minor": 5
}
