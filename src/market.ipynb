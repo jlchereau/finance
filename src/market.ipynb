{
 "cells": [
  {
   "cell_type": "markdown",
   "metadata": {},
   "source": [
    "# Market"
   ]
  },
  {
   "cell_type": "code",
   "execution_count": 1,
   "metadata": {},
   "outputs": [
    {
     "name": "stdout",
     "output_type": "stream",
     "text": [
      "Requirement already satisfied: beautifulsoup4 in c:\\users\\jlche\\appdata\\local\\programs\\python\\python312\\lib\\site-packages (from -r requirements.txt (line 2)) (4.12.3)\n",
      "Requirement already satisfied: bt in c:\\users\\jlche\\appdata\\local\\programs\\python\\python312\\lib\\site-packages (from -r requirements.txt (line 3)) (1.1.0)\n",
      "Requirement already satisfied: ffn in c:\\users\\jlche\\appdata\\local\\programs\\python\\python312\\lib\\site-packages (from -r requirements.txt (line 4)) (1.1.1)\n",
      "Requirement already satisfied: jinja2 in c:\\users\\jlche\\appdata\\local\\programs\\python\\python312\\lib\\site-packages (from -r requirements.txt (line 6)) (3.1.4)\n",
      "Requirement already satisfied: matplotlib in c:\\users\\jlche\\appdata\\local\\programs\\python\\python312\\lib\\site-packages (from -r requirements.txt (line 7)) (3.9.2)\n",
      "Requirement already satisfied: numpy in c:\\users\\jlche\\appdata\\local\\programs\\python\\python312\\lib\\site-packages (from -r requirements.txt (line 8)) (1.26.4)\n",
      "Requirement already satisfied: pandas in c:\\users\\jlche\\appdata\\local\\programs\\python\\python312\\lib\\site-packages (from -r requirements.txt (line 9)) (2.2.3)\n",
      "Requirement already satisfied: requests in c:\\users\\jlche\\appdata\\local\\programs\\python\\python312\\lib\\site-packages (from -r requirements.txt (line 11)) (2.32.3)\n",
      "Requirement already satisfied: statsmodels in c:\\users\\jlche\\appdata\\local\\programs\\python\\python312\\lib\\site-packages (from -r requirements.txt (line 12)) (0.14.4)\n",
      "Requirement already satisfied: tqdm in c:\\users\\jlche\\appdata\\local\\programs\\python\\python312\\lib\\site-packages (from -r requirements.txt (line 13)) (4.66.6)\n",
      "Requirement already satisfied: yfinance in c:\\users\\jlche\\appdata\\local\\programs\\python\\python312\\lib\\site-packages (from -r requirements.txt (line 14)) (0.2.48)\n",
      "Requirement already satisfied: ipywidgets in c:\\users\\jlche\\appdata\\local\\programs\\python\\python312\\lib\\site-packages (from -r requirements.txt (line 17)) (8.1.5)\n",
      "Requirement already satisfied: pytest in c:\\users\\jlche\\appdata\\local\\programs\\python\\python312\\lib\\site-packages (from -r requirements.txt (line 18)) (8.3.3)\n"
     ]
    },
    {
     "name": "stderr",
     "output_type": "stream",
     "text": [
      "ERROR: Could not find a version that satisfies the requirement talib (from versions: none)\n",
      "ERROR: No matching distribution found for talib\n"
     ]
    }
   ],
   "source": [
    "!pip3 install -r requirements.txt"
   ]
  },
  {
   "cell_type": "code",
   "execution_count": 2,
   "metadata": {},
   "outputs": [],
   "source": [
    "import pandas as pd\n",
    "\n",
    "pd.set_option('display.max_rows', None)\n",
    "pd.set_option('display.max_columns', None)\n",
    "\n",
    "%load_ext autoreload\n",
    "%autoreload 2"
   ]
  },
  {
   "cell_type": "markdown",
   "metadata": {},
   "source": [
    "## World MSCI"
   ]
  },
  {
   "cell_type": "code",
   "execution_count": 3,
   "metadata": {},
   "outputs": [
    {
     "name": "stdout",
     "output_type": "stream",
     "text": [
      "['NVDA', 'AAPL', 'MSFT', 'AMZN', 'META', 'GOOGL', 'GOOG', 'AVGO', 'TSLA', 'LLY', 'JPM', 'BRKB', 'XOM', 'UNH', 'V', 'MA', 'COST', 'HD', 'PG', 'JNJ', 'WMT', 'NOVO-B.CO', 'ABBV', 'NFLX', 'BAC', 'CRM', 'ORCL', 'CVX', 'ASML.AS', 'KO', 'MRK', 'NESN.SW', 'SAP.DE', 'PEP', 'AMD', 'CSCO', 'ROG.SW', 'AZN.L', 'WFC', 'LIN', 'NOVN.SW', 'ACN', 'SHEL.L', 'ADBE', 'TMO', 'MCD', 'ABT', 'PM', 'NOW', 'IBM', 'GE', 'CAT', 'QCOM', 'TXN', 'MC.PA', 'ISRG', '7203.T', 'HSBA.L', 'INTU', 'DIS', 'VZ', 'RY.TO', 'AMGN', 'CMCSA', 'GS', 'BKNG', 'DHR', 'NEE', 'CBA.AX', 'T', 'PFE', 'SPGI', 'RTX', 'AXP', 'ULVR.L', 'AMAT', 'LOW', 'SIE.DE', 'BLK', 'BHP.AX', 'MS', 'UNP', 'PGR', 'SU.PA', 'TTE.PA', 'UBER', 'HON', 'ETN', 'TJX', 'COP', 'SYK', 'BSX', 'ALV.DE', 'VRTX', 'FI', 'SAN.PA', 'BX', '8306.T', 'LMT', 'C', 'TMUS', 'ADP', 'PANW', 'MDT', 'BMY', '6501.T', 'BA', 'MU', 'GILD', '6758.T', 'ADI', 'SBUX', 'MMC', 'CB', 'DTE.DE', 'SCHW', 'PLD', 'DE', 'ANET', 'UBSG.SW', 'AI.PA', 'AMT', 'TD.TO', 'LRCX', 'SO', 'ELV', 'INTC', 'UPS', 'SHOP.TO', 'MELI', 'NKE', 'MO', 'MDLZ', 'IBE.MC', 'AIR.PA', 'CSL.AX', 'OR.PA', 'CI', 'KLAC', 'SHW', '1299.HK', 'ENB.TO', 'REGN', 'ICE', '6098.T', 'ABBN.SW', 'REL.L', 'DUK', 'WM', 'ZURN.SW', 'EQIX', 'TT', 'KKR', '6861.T', 'PLTR', '8316.T', 'APH', 'SNPS', 'WELL', 'PH', 'ZTS', 'ITW', 'GEV', 'NAB.AX', 'BP..L', 'CDNS', 'CME', 'SAN.MC', 'PYPL', 'SAF.PA', 'CFR.SW', 'CMG', 'MSI', 'MCO', 'BN.TO', 'GSK.L', 'CTAS', 'PNC', 'HCA', 'CL', 'RIO.L', 'USB', 'AON', 'TDG', 'WBC.AX', 'MRVL', 'CEG', 'NOC', 'CNQ.TO', 'EOG', 'BNP.PA', 'BATS.L', 'EL.PA', 'CP.TO', 'RMS.PA', 'MMM', 'TGT', 'ORLY', 'MUV2.DE', 'MCK', 'GD', 'CVS', 'DGE.L', '4063.T', 'UCG.MI', 'CS.PA', 'CRWD', 'LSEG.L', '8766.T', 'APD', '8035.T', 'BDX', 'CSX', 'BMO.TO', 'CRH', 'BNS.TO', 'FCX', 'FDX', 'MAR', 'ENEL.MI', 'WMB', 'ECL', 'PRX.AS', 'ISP.MI', 'ANZ.AX', 'EMR', '8058.T', 'CSU.TO', 'ADSK', 'HLT', 'AJG', 'NG..L', 'ITX.MC', 'RACE.MI', 'ABNB', 'NXPI', '9984.T', 'BBVA.MC', 'CNR.TO', 'GM', 'COF', 'BK', '8001.T', 'RR..L', 'CM.TO', '9983.T', 'ROP', '4568.T', 'D05.SI', 'CARR', 'SLB', 'DG.PA', 'DLR', 'TFC', 'AFL', 'INGA.AS', 'SPG', 'NSC', 'CPG.L', 'PCAR', '7974.T', 'GLEN.L', 'TRV', 'OKE', 'APO', 'ABI.BR', 'AMP', '8031.T', 'MFC.TO', 'AZO', 'FIS', 'NEM', 'PSX', 'TTD', 'FTNT', 'URI', 'MPC', 'MQG.AX', 'SRE', 'O', 'PSA', 'JCI', 'SU.TO', 'AIG', 'DHI', 'HOLN.SW', 'RCL', '7741.T', 'AEP', 'WDAY', 'WES.AX', 'INVE-B.ST', '8411.T', 'MET', 'KMI', 'FICO', 'ALL', 'DASH', 'D', 'LONN.SW', 'BN.PA', 'CCI', 'ALC.SW', 'BA..L', 'MBG.DE', 'BARC.L', 'GWW', 'TEL', '0388.HK', 'CMI', 'ROST', 'TRP.TO', 'LLOY.L', 'MSCI', 'WCN', '9433.T', 'DB1.DE', '7011.T', '7267.T', 'PAYX', '6857.T', 'DSV.CO', 'LHX', 'PWR', 'EXPN.L', 'FAST', '4502.T', 'GIVN.SW', 'CPRT', 'CTVA', 'WKL.AS', 'KMB', 'KVUE', 'SIKA.SW', 'LEN', 'RSG', 'VLO', 'LNG', 'RKT.L', 'MNST', 'ATCO-A.ST', 'COR', 'BAS.DE', 'AEM.TO', 'PRU', 'IFX.DE', 'VST', 'AME', 'A', 'DHL.DE', 'VOLV-B.ST', 'F', 'HWM', 'PEG', 'IT', 'FERG', 'EA', 'SGO.PA', 'CBRE', 'STZ', 'SQ', 'VRSK', 'OTIS', 'GMG.AX', 'III.L', 'PCG', 'ATD.TO', 'CTSH', 'MCHP', 'FLUT', 'ODFL', 'KR', 'VRT', 'HES', 'O39.SI', 'SYY', 'GIS', 'SREN.SW', 'GEHC', 'IQV', 'EW', 'ADS.DE', 'BKR', 'DFS', 'EXC', 'AAL.L', 'KDP', 'IR', 'YUM', 'MLM', 'DELL', 'NDA-FI.HE', 'DD', 'SE', 'LULU', 'NUE', 'XEL', 'MPWR', 'GLW', 'IRM', 'RMD', '6367.T', 'CHTR', 'DBK.DE', 'ED', 'HLN.L', 'ENI.MI', 'TRGP', '9434.T', 'HPQ', 'TSCO.L', 'MSTR', 'IFC.TO', 'ACGL', 'IDXX', 'COIN', 'ARGX.BR', 'HIG', 'ALNY', 'VMC', 'DOW', 'SNOW', 'DDOG', '6503.T', 'VICI', 'CNC', 'VEEV', 'EXR', 'WAB', 'ADYEN.AS', 'AD.AS', 'OXY', 'TEAM', 'NWG.L', 'MTB', 'EFX', 'NDAQ', '3382.T', 'ABX.TO', 'FANG', 'PGHN.SW', 'EOAN.DE', 'AHT.L', '4519.T', 'AMS.MC', 'STLAM.MI', 'ENGI.PA', 'APP', 'EBAY', '8725.T', 'AVB', 'EIX', 'ASSA-B.ST', 'AXON', '6702.T', 'SLF.TO', '7751.T', 'U11.SI', 'WTW', 'NA.TO', 'ROK', 'KHC', 'HUM', '2914.T', 'LR.PA', 'WDS.AX', 'WPM.TO', 'GRMN', 'CSGP', 'NVR', 'CAH', 'FITB', 'ETR', 'WEC', 'PPG', 'ADM', '9432.T', 'STT', 'DOL.TO', 'ON', 'ANSS', 'TRI.TO', 'RIO.AX', 'DOV', 'TTWO', 'XYL', 'G.MI', 'CAP.PA', '6981.T', 'PHM', 'ARES', 'HPE', 'RJF', '6902.T', 'MTD', 'TSCO', 'STAN.L', 'KEYS', 'TCL.AX', 'FNV.TO', 'DXCM', 'UCB.BR', 'GPN', 'FFH.TO', 'IMB.L', 'SW', 'CABK.MC', 'AWK', '4661.T', 'ALL.AX', 'NET', 'LDOS', 'TYL', 'CHD', '4901.T', 'NOKIA.HE', 'FTV', 'GIB.A.TO', 'RBLX', 'HUBS', 'PUB.PA', '4578.T', 'BAYN.DE', 'DTE', 'VLTO', 'RI.PA', '6146.T', 'NTR.TO', 'ASM.AS', 'BAH', 'SSE.L', 'CCL', 'EQR', 'BRO', 'HSY', 'CDW', 'VTR', 'VNA.DE', 'ILMN', 'DECK', '4543.T', 'DVN', 'BMW.DE', 'SBAC', 'FE', 'GDDY', '6954.T', 'PPL.TO', '8750.T', 'BIIB', 'K', '8801.T', 'PRU.L', 'CPAY', 'SLHN.SW', 'ATCO-B.ST', 'TPL', '8591.T', 'IFF', 'PTC', 'WST', '6273.T', 'CVE.TO', 'ES', 'HAL', 'WOW.AX', 'TROW', 'ENR.DE', 'BLDR', '6301.T', 'BR', 'DTG.DE', 'PPL', 'SEB-A.ST', 'HEIA.AS', 'ERIC-B.ST', 'WY', 'CCO.TO', '6701.T', 'HOLX', 'FMG.AX', '6762.T', 'FSLR', 'RHM.DE', 'RF', 'HBAN', 'STE', 'NTAP', 'ZBH', 'HUBB', '6723.T', 'EXPE', 'WAT', 'COO', 'DSY.PA', 'SYF', 'PHIA.AS', 'ML.PA', 'FER.MC', 'EME', 'WDC', 'AEE', 'VIE.PA', 'SAMPO.HE', 'CBOE', 'L.TO', '0669.HK', 'MRK.DE', '4503.T', 'CMS', 'NSIS-B.CO', '8053.T', 'WSP.TO', 'CSL', 'TECK.B.TO', 'LYB', 'SAND.ST', 'STLD', 'LII', 'LPLA', 'MKL', 'GLE.PA', 'ATO', 'LH', 'PKG', 'TEF.MC', 'EBS.VI', 'VOD.L', 'EQNR.OL', 'HEXA-B.ST', 'QSR.TO', 'EQT', '8002.T', 'IP', 'VWS.CO', 'CINF', 'OMC', 'PFG', 'FCNCA', 'GEBN.SW', 'RWE.DE', 'TEVA', 'CLX', 'CLNX.MC', 'TDY', 'DSFIR.AS', 'TRU', 'UMG.AS', 'MAA', '5108.T', '8630.T', 'KNEBV.HE', 'FTS.TO', 'EXPD', '4452.T', '7733.T', 'MKC', 'ORA.PA', 'LVS', 'ZBRA', 'MTX.DE', 'NTRS', 'DANSKE.CO', 'STX', 'PINS', 'PRY.MI', 'VOW3.DE', 'SDZ.SW', 'Z74.SI', 'NRG', '9020.T', 'DRI', 'ULTA', 'LYV', '6752.T', 'INVH', 'CF', 'KER.PA', 'MOH', 'AER', 'BBY', 'PNR', 'SWED-A.ST', 'BAM.TO', 'DG', 'BALL', 'ZM', 'MDB', 'EVO.ST', '6594.T', 'FDS', 'J', 'CCEP', 'TSN', '6178.T', 'MAS', 'DNB.OL', 'DGX', 'CBK.DE', 'CNP', 'KBC.BR', 'SOON.SW', 'IHG.L', 'EXE', 'AENA.MC', '8802.T', 'POW.TO', 'SNA', 'CFG', '0016.HK', 'WBD', 'INF.L', 'STMPA.PA', 'ESSITY-B.ST', 'MRNA', 'TER', 'ARE', 'BAX', 'CTRA', 'TXT', 'QBE.AX', '5401.T', '1925.T', 'AVY', 'AVTR', '2802.T', 'UPM.HE', 'HO.PA', 'WRB', 'ESS', 'UTHR', 'GEN', 'TRMB', 'SGSN.SW', 'RPM', 'KRZ.IR', 'BXB.AX', '2502.T', 'KPN.AS', 'RS', 'CHKP', 'JBL', 'WSM', 'ACA.PA', '9022.T', 'EQH', 'ZS', 'KEY', 'NI', 'GPC', 'MANH', 'LGEN.L', 'NXT.L', 'SSNC', 'BURL', 'SUN.AX', 'COLO-B.CO', 'REP.MC', 'FWONK', 'LNT', 'ENTG', 'SUI', 'BNZL.L', 'SHL.DE', '7269.T', 'HEN3.DE', 'LOGN.SW', 'PODD', 'AKAM', 'APTV', 'DT', 'PNDORA.CO', 'IMO.TO', '8267.T', 'XRO.AX', 'IEX', 'SY1.DE', 'MRO', 'WSO', 'SHB-A.ST', '8604.T', '0001.HK', 'GMAB.CO', 'DOC', 'PSTG', 'RBA.TO', 'ALGN', 'ROL', '5020.T', 'VRSN', 'OC', 'HNR1.DE', 'COL.AX', 'JBHT', 'HEI.DE', 'AMCR', 'KIM', 'STMN.SW', 'EG', 'DPZ', 'JHX.AX', 'RCI.B.TO', 'CAG', 'MRU.TO', '9735.T', 'CE', 'RVTY', 'DKNG', 'EL', 'WTC.AX', 'REG', '0002.HK', 'KNIN.SW', 'HEIA', '9101.T', 'SCMN.SW', 'VTRS', '1928.T', 'AV..L', 'STO.AX', 'SWKS', 'HOOD', 'FFIV', 'EMN', 'HLMA.L', 'CHRW', '8309.T', 'TWLO', 'ACM', 'EPI-A.ST', 'MT.AS', 'DLTR', 'BAER.SW', 'SMCI', '2388.HK', 'GGG', 'TOU.TO', 'L', 'TW', 'JNPR', 'JKHY', 'NBIX', '0823.HK', 'POOL', 'SCG.AX', '9104.T', 'NN.AS', 'FRE.DE', 'DOCU', 'BT.A.L', 'ORG.AX', '8113.T', 'BEI.DE', 'EVRG', 'SWK', 'LUMI', 'NDSN', 'COH.AX', 'UHS', '8308.T', 'CPT', '6971.T', 'HST', 'BMRN', '7182.T', '2503.T', 'INCY', 'GLPI', '1605.T', 'FNF', 'FBIN', '9503.T', 'SNAP', 'UDR', 'BG', 'SGRO.L', 'NST.AX', 'WPP.L', 'ENPH', 'KRX.IR', '8697.T', 'OKTA', '6326.T', 'CCK', 'ALLE', 'DAY', 'RTO.L', 'DKS', '5802.T', 'MONC.MI', 'EDPLS', 'IAG.AX', 'WN.TO', 'SGE.L', '7309.T', 'CYBR', 'ELS', 'NICE', 'WPC', 'SJM', 'BXP', '0011.HK', 'KMX', 'CG', 'EXO.AS', '0006.HK', 'FOXA', 'CPB', 'EQT.ST', 'EXAS', 'POLI', '1COV.DE', 'LW', 'ARX.TO', 'S32.AX', 'TRN.MI', 'ALB', '7832.T', 'TECH', '4307.T', 'MGM', '4507.T', 'BVI.PA', 'QIA.DE', 'AOS', 'IPG', 'MG.TO', 'ALFA.ST', 'FPH.NZ', 'SCHP.SW', 'ERIE', 'HEI', 'TOST', 'A5G.IR', 'URW.PA', 'LISN.SW', 'FBK.MI', '7936.T', 'SAB.MC', 'AMH', 'HSIC', 'EMA.TO', 'TFII.TO', 'K.TO', '9531.T', 'ORSTED.CO', 'AKZA.AS', '8015.T', 'ALLY', '4684.T', 'PSON.L', 'VACN.SW', '6988.T', 'CNH', 'PAYC', 'ANTO.L', 'UU..L', 'MOS', 'ACS.MC', 'RO.SW', 'AGN.AS', 'LISP.SW', 'WTB.L', 'SEIC', 'MNDY', 'MTCH', 'AFG', 'WTRG', 'TAP', '7532.T', 'OVV', 'TLS.AX', 'KNX', 'MKTX', '3407.T', 'LKQ', 'NWSA', 'H.TO', 'SN..L', 'BIRG.IR', 'WRT1V.HE', 'AES', 'SOLV', '5713.T', '9613.T', '6920.T', 'HM-B.ST', 'EPAM', 'DSG.TO', 'LDO.MI', '4523.T', 'SVT.L', 'ABF.L', 'MB.MI', 'GIL.TO', '8830.T', 'CARL-B.CO', '1113.HK', 'G24.DE', 'SHL.AX', 'CTLT', 'CCH.L', 'GALPLS', 'WYNN', 'SRG.MI', 'CPU.AX', 'KGF.L', '4755.T', 'RPRX', '4911.T', 'GFL.TO', 'AIZ', 'CRL', 'STN.TO', 'CAR.AX', 'AGS.BR', 'NHY.OL', 'NLY', '8601.T', '6869.T', 'CA.PA', 'AUTO.L', '0027.HK', '2801.T', 'DAL', 'BNR.DE', '9532.T', 'TW..L', 'SW.PA', 'BALN.SW', 'RNO.PA', 'IMCD.AS', '7270.T', 'KOG.OL', 'G1A.DE', 'LIFCO-B.ST', '9843.T', 'ADM.L', 'HII', 'X.TO', 'Z', 'NEM.DE', 'FME.DE', 'MOWI.OL', 'BIO', '6201.T', 'GWO.TO', 'BAMI.MI', 'CNA.L', 'TTC', 'TEL.OL', 'BESI.AS', 'TFX', '9042.T', 'HEIO.AS', 'MRO.L', '1802.T', 'HEN.DE', 'ITRK.L', 'BTRW.L', 'PAAS.TO', '8795.T', 'HRL', 'C38U.SI', '9502.T', 'TRYG.CO', 'EDEN.PA', 'FSV.TO', 'DVA', 'BFB', 'IOT', 'APA', 'GRAB', '7272.T', 'WIX', 'ZEAL.CO', 'T.TO', 'EFN.TO', 'BSY', 'IVN.TO', 'QRVO', 'SCA-B.ST', 'P911.DE', '0003.HK', 'CHRD', 'MAERSK-B.CO', 'PST.MI', 'ASRNL.AS', 'FM.TO', '0066.HK', 'CCL.B.TO', '7701.T', 'AC.PA', 'ADDT-B.ST', 'ENX.PA', '3659.T', '5411.T', 'WFG.TO', 'SVW.AX', 'EMSN.SW', 'PME.AX', '4188.T', 'SIGN.SW', 'SGP.AX', '6724.T', 'BBWI', 'ROKU', 'BOL.ST', 'PAH3.DE', '9766.T', '7201.T', '9697.T', 'SMIN.L', 'C6L.SI', '3402.T', 'TREL-B.ST', 'ALO.PA', 'TELIA.ST', 'ESLT', 'SPSN.SW', 'A17U.SI', 'KEY.TO', 'BSL.AX', 'TEN.MI', '6479.T', 'DSCT', '1812.T', 'OTEX.TO', '6504.T', 'FORTUM.HE', 'INDT.ST', '2269.T', 'ZAL.DE', '4689.T', '8473.T', 'ASX.AX', '4612.T', 'SKF-B.ST', '9021.T', 'METSO.HE', '5019.T', 'SYENS.BR', 'WBA', 'AKRBP.OL', 'TIH.TO', 'VER.VI', 'EN.PA', '3626.T', 'H', 'MAERSK-A.CO', 'S68.SI', 'BARN.SW', '1878.T', 'VIV.PA', '6383.T', 'SEK.AX', '7912.T', 'AZPN', 'FGR.PA', 'NIBE-B.ST', 'LI.PA', 'MNDI.L', 'NESTE.HE', 'AM.PA', 'BN4.SI', '4151.T', 'EVD.DE', '8951.T', 'BEN', 'IAG.TO', 'RIVN', 'DHER.DE', '5201.T', 'ALA.TO', 'PSN.L', 'GBLB.BR', 'REA.AX', 'S63.SI', 'RXL.PA', '4528.T', 'YAR.OL', 'ELISA.HE', 'ABN.AS', 'ERF.PA', 'SAAB-B.ST', 'GPT.AX', '7202.T', 'PARA', 'SKA-B.ST', 'MNG.L', '6586.T', '4704.T', 'DINO', 'SRT3.DE', 'ELE.MC', 'TEP.PA', 'FUTU', 'LUN.TO', '8593.T', 'QBR.B.TO', 'LEG.DE', '3064.T', 'HELN.SW', '4204.T', '0083.HK', 'CON.DE', 'EVK.DE', 'ADEN.SW', 'JMTLS', 'MPL.AX', 'GET.PA', '6645.T', 'ORK.OL', 'DCC.L', 'TLC.AX', '0288.HK', '7752.T', 'SOBI.ST', 'FOX', 'AIA.NZ', '3088.T', 'EPI-B.ST', '1928.HK', '9501.T', 'SAGA-B.ST', 'AKE.PA', 'CTC.A.TO', '9CI.SI', '3283.T', 'OMV.VI', '8952.T', 'CRDA.L', 'KESKOB.HE', '6506.T', 'ORI.AX', 'WISE.L', 'TWE.AX', '9005.T', '7911.T', 'KBX.DE', 'RHC.AX', 'BKG.L', '1801.T', 'REC.MI', 'STERV.HE', 'DIM.PA', 'UHR.SW', 'MZTF', 'PLS.AX', 'MEG.TO', 'BEIJ-B.ST', 'SPX.L', 'ONEX.TO', 'UHALB', 'ACI', 'MGR.AX', 'SBRY.L', 'SCHN.SW', 'RAND.AS', 'APA.AX', 'BOL.PA', 'DIE.BR', 'LHA.DE', '4091.T', '6823.HK', 'LAND.L', 'SECU-B.ST', '9107.T', 'VOLV-A.ST', 'SOL.AX', 'GETI-B.ST', 'J36.SI', '7735.T', '2897.T', 'PUM.DE', '7186.T', '1038.HK', 'TLX.DE', 'ENT.L', 'INDU-A.ST', 'LUV', 'WLK', '1997.HK', '7259.T', 'CELH', 'TEL2-B.ST', 'INDU-C.ST', 'GALD.SW', '2413.T', 'VCX.AX', 'CAE.TO', 'H78.SI', 'ORNBV.HE', 'DXS.AX', '4768.T', 'ALD.AX', 'BALD-B.ST', 'RAA.DE', 'F34.SI', '2267.T', '9435.T', 'LOTB.BR', 'GFC.PA', 'REH.AX', '4716.T', 'BIM.PA', 'EMP.A.TO', '4183.T', 'FDJ.PA', 'LATO-B.ST', '6841.T', 'ROCK-B.CO', 'CAR.UN.TO', 'IPN.PA', 'TEMN.SW', 'EDV.L', 'HL..L', '9143.T', 'AMUN.PA', '8331.T', 'QAN.AX', 'HUSQ-B.ST', '3003.T', 'DEMANT.CO', 'EDPRLS', 'AVOL.SW', '4324.T', 'LUND-B.ST', 'INPST.AS', 'MIN.AX', 'SAP.TO', '5332.T', 'GJF.OL', 'EDV.AX', '7261.T', '5831.T', 'G13.SI', '7550.T', '2587.T', 'MEL.NZ', '6448.T', '3038.T', 'CPR.MI', 'CU.TO', 'HOLM-B.ST', 'BMW3.DE', 'SOF.BR', 'PHNX.L', '2702.T', 'COV.PA', 'U96.SI', 'GLBE', 'BKW.SW', '6965.T', 'WDP.BR', 'NEXI.MI', 'INW.MI', '3436.T', 'CLN.SW', 'AMP.MI', '0012.HK', 'GRF.MC', 'ANA.MC', '6465.T', '6963.T', 'ICL', 'BEPC.TO', 'SDR.L', 'RF.PA', 'HIK.L', 'ELI.BR', 'BC8.DE', 'JD..L', 'SPK.NZ', 'BANB.SW', 'IGM.TO', 'ADP.PA', '4062.T', '9009.T', '9202.T', 'SALM.OL', 'AFX.DE', '3231.T', 'AZRG', '0004.HK', '0019.HK', 'DOO.TO', '3092.T', 'BCVN.SW', '7181.T', '6525.T', 'MCY.NZ', 'VOE.VI', '6305.T', '1308.HK', 'PKI.TO', 'JDEP.AS', 'TIT.MI', 'DIA.MI', 'RED.MC', 'SK.PA', 'BCE.TO', 'UHRN.SW', '9602.T', '9719.T', 'AC.TO', 'VOLCAR-B.ST', '9201.T', '2299955D.TO']\n"
     ]
    }
   ],
   "source": [
    "from folib.market import get_msci_world_tickers\n",
    "print(get_msci_world_tickers())"
   ]
  },
  {
   "cell_type": "markdown",
   "metadata": {},
   "source": [
    "## S&P 500"
   ]
  },
  {
   "cell_type": "code",
   "execution_count": 4,
   "metadata": {},
   "outputs": [
    {
     "name": "stdout",
     "output_type": "stream",
     "text": [
      "['MMM', 'AOS', 'ABT', 'ABBV', 'ACN', 'ADBE', 'AMD', 'AES', 'AFL', 'A', 'APD', 'ABNB', 'AKAM', 'ALB', 'ARE', 'ALGN', 'ALLE', 'LNT', 'ALL', 'GOOGL', 'GOOG', 'MO', 'AMZN', 'AMCR', 'AMTM', 'AEE', 'AEP', 'AXP', 'AIG', 'AMT', 'AWK', 'AMP', 'AME', 'AMGN', 'APH', 'ADI', 'ANSS', 'AON', 'APA', 'AAPL', 'AMAT', 'APTV', 'ACGL', 'ADM', 'ANET', 'AJG', 'AIZ', 'T', 'ATO', 'ADSK', 'ADP', 'AZO', 'AVB', 'AVY', 'AXON', 'BKR', 'BALL', 'BAC', 'BAX', 'BDX', 'BRK-B', 'BBY', 'TECH', 'BIIB', 'BLK', 'BX', 'BK', 'BA', 'BKNG', 'BWA', 'BSX', 'BMY', 'AVGO', 'BR', 'BRO', 'BF-B', 'BLDR', 'BG', 'BXP', 'CHRW', 'CDNS', 'CZR', 'CPT', 'CPB', 'COF', 'CAH', 'KMX', 'CCL', 'CARR', 'CTLT', 'CAT', 'CBOE', 'CBRE', 'CDW', 'CE', 'COR', 'CNC', 'CNP', 'CF', 'CRL', 'SCHW', 'CHTR', 'CVX', 'CMG', 'CB', 'CHD', 'CI', 'CINF', 'CTAS', 'CSCO', 'C', 'CFG', 'CLX', 'CME', 'CMS', 'KO', 'CTSH', 'CL', 'CMCSA', 'CAG', 'COP', 'ED', 'STZ', 'CEG', 'COO', 'CPRT', 'GLW', 'CPAY', 'CTVA', 'CSGP', 'COST', 'CTRA', 'CRWD', 'CCI', 'CSX', 'CMI', 'CVS', 'DHR', 'DRI', 'DVA', 'DAY', 'DECK', 'DE', 'DELL', 'DAL', 'DVN', 'DXCM', 'FANG', 'DLR', 'DFS', 'DG', 'DLTR', 'D', 'DPZ', 'DOV', 'DOW', 'DHI', 'DTE', 'DUK', 'DD', 'EMN', 'ETN', 'EBAY', 'ECL', 'EIX', 'EW', 'EA', 'ELV', 'EMR', 'ENPH', 'ETR', 'EOG', 'EPAM', 'EQT', 'EFX', 'EQIX', 'EQR', 'ERIE', 'ESS', 'EL', 'EG', 'EVRG', 'ES', 'EXC', 'EXPE', 'EXPD', 'EXR', 'XOM', 'FFIV', 'FDS', 'FICO', 'FAST', 'FRT', 'FDX', 'FIS', 'FITB', 'FSLR', 'FE', 'FI', 'FMC', 'F', 'FTNT', 'FTV', 'FOXA', 'FOX', 'BEN', 'FCX', 'GRMN', 'IT', 'GE', 'GEHC', 'GEV', 'GEN', 'GNRC', 'GD', 'GIS', 'GM', 'GPC', 'GILD', 'GPN', 'GL', 'GDDY', 'GS', 'HAL', 'HIG', 'HAS', 'HCA', 'DOC', 'HSIC', 'HSY', 'HES', 'HPE', 'HLT', 'HOLX', 'HD', 'HON', 'HRL', 'HST', 'HWM', 'HPQ', 'HUBB', 'HUM', 'HBAN', 'HII', 'IBM', 'IEX', 'IDXX', 'ITW', 'INCY', 'IR', 'PODD', 'INTC', 'ICE', 'IFF', 'IP', 'IPG', 'INTU', 'ISRG', 'IVZ', 'INVH', 'IQV', 'IRM', 'JBHT', 'JBL', 'JKHY', 'J', 'JNJ', 'JCI', 'JPM', 'JNPR', 'K', 'KVUE', 'KDP', 'KEY', 'KEYS', 'KMB', 'KIM', 'KMI', 'KKR', 'KLAC', 'KHC', 'KR', 'LHX', 'LH', 'LRCX', 'LW', 'LVS', 'LDOS', 'LEN', 'LLY', 'LIN', 'LYV', 'LKQ', 'LMT', 'L', 'LOW', 'LULU', 'LYB', 'MTB', 'MRO', 'MPC', 'MKTX', 'MAR', 'MMC', 'MLM', 'MAS', 'MA', 'MTCH', 'MKC', 'MCD', 'MCK', 'MDT', 'MRK', 'META', 'MET', 'MTD', 'MGM', 'MCHP', 'MU', 'MSFT', 'MAA', 'MRNA', 'MHK', 'MOH', 'TAP', 'MDLZ', 'MPWR', 'MNST', 'MCO', 'MS', 'MOS', 'MSI', 'MSCI', 'NDAQ', 'NTAP', 'NFLX', 'NEM', 'NWSA', 'NWS', 'NEE', 'NKE', 'NI', 'NDSN', 'NSC', 'NTRS', 'NOC', 'NCLH', 'NRG', 'NUE', 'NVDA', 'NVR', 'NXPI', 'ORLY', 'OXY', 'ODFL', 'OMC', 'ON', 'OKE', 'ORCL', 'OTIS', 'PCAR', 'PKG', 'PLTR', 'PANW', 'PARA', 'PH', 'PAYX', 'PAYC', 'PYPL', 'PNR', 'PEP', 'PFE', 'PCG', 'PM', 'PSX', 'PNW', 'PNC', 'POOL', 'PPG', 'PPL', 'PFG', 'PG', 'PGR', 'PLD', 'PRU', 'PEG', 'PTC', 'PSA', 'PHM', 'QRVO', 'PWR', 'QCOM', 'DGX', 'RL', 'RJF', 'RTX', 'O', 'REG', 'REGN', 'RF', 'RSG', 'RMD', 'RVTY', 'ROK', 'ROL', 'ROP', 'ROST', 'RCL', 'SPGI', 'CRM', 'SBAC', 'SLB', 'STX', 'SRE', 'NOW', 'SHW', 'SPG', 'SWKS', 'SJM', 'SW', 'SNA', 'SOLV', 'SO', 'LUV', 'SWK', 'SBUX', 'STT', 'STLD', 'STE', 'SYK', 'SMCI', 'SYF', 'SNPS', 'SYY', 'TMUS', 'TROW', 'TTWO', 'TPR', 'TRGP', 'TGT', 'TEL', 'TDY', 'TFX', 'TER', 'TSLA', 'TXN', 'TXT', 'TMO', 'TJX', 'TSCO', 'TT', 'TDG', 'TRV', 'TRMB', 'TFC', 'TYL', 'TSN', 'USB', 'UBER', 'UDR', 'ULTA', 'UNP', 'UAL', 'UPS', 'URI', 'UNH', 'UHS', 'VLO', 'VTR', 'VLTO', 'VRSN', 'VRSK', 'VZ', 'VRTX', 'VTRS', 'VICI', 'V', 'VST', 'VMC', 'WRB', 'GWW', 'WAB', 'WBA', 'WMT', 'DIS', 'WBD', 'WM', 'WAT', 'WEC', 'WFC', 'WELL', 'WST', 'WDC', 'WY', 'WMB', 'WTW', 'WYNN', 'XEL', 'XYL', 'YUM', 'ZBRA', 'ZBH', 'ZTS']\n"
     ]
    }
   ],
   "source": [
    "from folib.market import get_sp500_tickers\n",
    "print(get_sp500_tickers())"
   ]
  },
  {
   "cell_type": "markdown",
   "metadata": {},
   "source": [
    "## Nasdaq 100"
   ]
  },
  {
   "cell_type": "code",
   "execution_count": 5,
   "metadata": {},
   "outputs": [
    {
     "name": "stdout",
     "output_type": "stream",
     "text": [
      "['ADBE', 'AMD', 'ABNB', 'GOOGL', 'GOOG', 'AMZN', 'AEP', 'AMGN', 'ADI', 'ANSS', 'AAPL', 'AMAT', 'ARM', 'ASML', 'AZN', 'TEAM', 'ADSK', 'ADP', 'BKR', 'BIIB', 'BKNG', 'AVGO', 'CDNS', 'CDW', 'CHTR', 'CTAS', 'CSCO', 'CCEP', 'CTSH', 'CMCSA', 'CEG', 'CPRT', 'CSGP', 'COST', 'CRWD', 'CSX', 'DDOG', 'DXCM', 'FANG', 'DLTR', 'DASH', 'EA', 'EXC', 'FAST', 'FTNT', 'GEHC', 'GILD', 'GFS', 'HON', 'IDXX', 'ILMN', 'INTC', 'INTU', 'ISRG', 'KDP', 'KLAC', 'KHC', 'LRCX', 'LIN', 'LULU', 'MAR', 'MRVL', 'MELI', 'META', 'MCHP', 'MU', 'MSFT', 'MRNA', 'MDLZ', 'MDB', 'MNST', 'NFLX', 'NVDA', 'NXPI', 'ORLY', 'ODFL', 'ON', 'PCAR', 'PANW', 'PAYX', 'PYPL', 'PDD', 'PEP', 'QCOM', 'REGN', 'ROP', 'ROST', 'SBUX', 'SMCI', 'SNPS', 'TTWO', 'TMUS', 'TSLA', 'TXN', 'TTD', 'VRSK', 'VRTX', 'WBD', 'WDAY', 'XEL', 'ZS']\n"
     ]
    }
   ],
   "source": [
    "from folib.market import get_nasdaq100_tickers\n",
    "print(get_nasdaq100_tickers())"
   ]
  },
  {
   "cell_type": "markdown",
   "metadata": {},
   "source": [
    "## Stoxx 600"
   ]
  },
  {
   "cell_type": "code",
   "execution_count": 6,
   "metadata": {},
   "outputs": [],
   "source": [
    "# from folib.market import get_stoxx600_tickers\n",
    "# print(get_stoxx600_tickers())"
   ]
  }
 ],
 "metadata": {
  "kernelspec": {
   "display_name": "Python 3",
   "language": "python",
   "name": "python3"
  },
  "language_info": {
   "codemirror_mode": {
    "name": "ipython",
    "version": 3
   },
   "file_extension": ".py",
   "mimetype": "text/x-python",
   "name": "python",
   "nbconvert_exporter": "python",
   "pygments_lexer": "ipython3",
   "version": "3.12.6"
  }
 },
 "nbformat": 4,
 "nbformat_minor": 2
}
