{
 "cells": [
  {
   "attachments": {},
   "cell_type": "markdown",
   "metadata": {},
   "source": [
    "# Week 1 Assignment\n",
    "\n",
    "Install `pip3 install statsmodels`"
   ]
  },
  {
   "cell_type": "code",
   "execution_count": 118,
   "metadata": {},
   "outputs": [
    {
     "name": "stdout",
     "output_type": "stream",
     "text": [
      "The autoreload extension is already loaded. To reload it, use:\n",
      "  %reload_ext autoreload\n"
     ]
    }
   ],
   "source": [
    "import numpy as np\n",
    "import pandas as pd\n",
    "import statsmodels.api as sm\n",
    "import edhec_risk_kit_206 as erk\n",
    "%load_ext autoreload\n",
    "%autoreload 2"
   ]
  },
  {
   "attachments": {},
   "cell_type": "markdown",
   "metadata": {},
   "source": [
    "Load the 49 Value Weighted industry portfolio returns. Limit the analysis to returns of the 49 VW portfolios from 1991 onwards (1991 included, 1990 not included, 2018 included). Also load the Fama French Research Factors over the same period. Use the Mkt-RF as in the lab notebooks to compute the CAPM betas."
   ]
  },
  {
   "cell_type": "code",
   "execution_count": 119,
   "metadata": {},
   "outputs": [
    {
     "data": {
      "text/html": [
       "<div>\n",
       "<style scoped>\n",
       "    .dataframe tbody tr th:only-of-type {\n",
       "        vertical-align: middle;\n",
       "    }\n",
       "\n",
       "    .dataframe tbody tr th {\n",
       "        vertical-align: top;\n",
       "    }\n",
       "\n",
       "    .dataframe thead th {\n",
       "        text-align: right;\n",
       "    }\n",
       "</style>\n",
       "<table border=\"1\" class=\"dataframe\">\n",
       "  <thead>\n",
       "    <tr style=\"text-align: right;\">\n",
       "      <th></th>\n",
       "      <th>Agric</th>\n",
       "      <th>Food</th>\n",
       "      <th>Soda</th>\n",
       "      <th>Beer</th>\n",
       "      <th>Smoke</th>\n",
       "      <th>Toys</th>\n",
       "      <th>Fun</th>\n",
       "      <th>Books</th>\n",
       "      <th>Hshld</th>\n",
       "      <th>Clths</th>\n",
       "      <th>...</th>\n",
       "      <th>Boxes</th>\n",
       "      <th>Trans</th>\n",
       "      <th>Whlsl</th>\n",
       "      <th>Rtail</th>\n",
       "      <th>Meals</th>\n",
       "      <th>Banks</th>\n",
       "      <th>Insur</th>\n",
       "      <th>RlEst</th>\n",
       "      <th>Fin</th>\n",
       "      <th>Other</th>\n",
       "    </tr>\n",
       "  </thead>\n",
       "  <tbody>\n",
       "    <tr>\n",
       "      <th>1926-07</th>\n",
       "      <td>0.0237</td>\n",
       "      <td>0.0012</td>\n",
       "      <td>NaN</td>\n",
       "      <td>-0.0519</td>\n",
       "      <td>0.0129</td>\n",
       "      <td>0.0865</td>\n",
       "      <td>0.0250</td>\n",
       "      <td>0.5021</td>\n",
       "      <td>-0.0048</td>\n",
       "      <td>0.0808</td>\n",
       "      <td>...</td>\n",
       "      <td>0.0770</td>\n",
       "      <td>0.0194</td>\n",
       "      <td>-0.2379</td>\n",
       "      <td>0.0007</td>\n",
       "      <td>0.0187</td>\n",
       "      <td>0.0461</td>\n",
       "      <td>-0.0054</td>\n",
       "      <td>0.0289</td>\n",
       "      <td>-0.0485</td>\n",
       "      <td>0.0520</td>\n",
       "    </tr>\n",
       "    <tr>\n",
       "      <th>1926-08</th>\n",
       "      <td>0.0223</td>\n",
       "      <td>0.0268</td>\n",
       "      <td>NaN</td>\n",
       "      <td>0.2703</td>\n",
       "      <td>0.0650</td>\n",
       "      <td>0.1681</td>\n",
       "      <td>-0.0076</td>\n",
       "      <td>0.4298</td>\n",
       "      <td>-0.0358</td>\n",
       "      <td>-0.0251</td>\n",
       "      <td>...</td>\n",
       "      <td>-0.0238</td>\n",
       "      <td>0.0488</td>\n",
       "      <td>0.0539</td>\n",
       "      <td>-0.0075</td>\n",
       "      <td>-0.0013</td>\n",
       "      <td>0.1183</td>\n",
       "      <td>0.0257</td>\n",
       "      <td>0.0530</td>\n",
       "      <td>-0.0057</td>\n",
       "      <td>0.0676</td>\n",
       "    </tr>\n",
       "    <tr>\n",
       "      <th>1926-09</th>\n",
       "      <td>-0.0057</td>\n",
       "      <td>0.0158</td>\n",
       "      <td>NaN</td>\n",
       "      <td>0.0402</td>\n",
       "      <td>0.0126</td>\n",
       "      <td>0.0833</td>\n",
       "      <td>0.0642</td>\n",
       "      <td>-0.0491</td>\n",
       "      <td>0.0073</td>\n",
       "      <td>-0.0051</td>\n",
       "      <td>...</td>\n",
       "      <td>-0.0554</td>\n",
       "      <td>0.0006</td>\n",
       "      <td>-0.0787</td>\n",
       "      <td>0.0025</td>\n",
       "      <td>-0.0056</td>\n",
       "      <td>-0.0175</td>\n",
       "      <td>0.0072</td>\n",
       "      <td>-0.0306</td>\n",
       "      <td>-0.0314</td>\n",
       "      <td>-0.0386</td>\n",
       "    </tr>\n",
       "    <tr>\n",
       "      <th>1926-10</th>\n",
       "      <td>-0.0046</td>\n",
       "      <td>-0.0368</td>\n",
       "      <td>NaN</td>\n",
       "      <td>-0.0331</td>\n",
       "      <td>0.0106</td>\n",
       "      <td>-0.0140</td>\n",
       "      <td>-0.0509</td>\n",
       "      <td>0.0537</td>\n",
       "      <td>-0.0468</td>\n",
       "      <td>0.0012</td>\n",
       "      <td>...</td>\n",
       "      <td>-0.0508</td>\n",
       "      <td>-0.0264</td>\n",
       "      <td>-0.1538</td>\n",
       "      <td>-0.0220</td>\n",
       "      <td>-0.0411</td>\n",
       "      <td>-0.1182</td>\n",
       "      <td>-0.0428</td>\n",
       "      <td>-0.0574</td>\n",
       "      <td>0.0207</td>\n",
       "      <td>-0.0849</td>\n",
       "    </tr>\n",
       "    <tr>\n",
       "      <th>1926-11</th>\n",
       "      <td>0.0675</td>\n",
       "      <td>0.0626</td>\n",
       "      <td>NaN</td>\n",
       "      <td>0.0729</td>\n",
       "      <td>0.0455</td>\n",
       "      <td>0.0000</td>\n",
       "      <td>0.0182</td>\n",
       "      <td>-0.0640</td>\n",
       "      <td>-0.0054</td>\n",
       "      <td>0.0187</td>\n",
       "      <td>...</td>\n",
       "      <td>0.0384</td>\n",
       "      <td>0.0160</td>\n",
       "      <td>0.0467</td>\n",
       "      <td>0.0652</td>\n",
       "      <td>0.0433</td>\n",
       "      <td>-0.0297</td>\n",
       "      <td>0.0358</td>\n",
       "      <td>0.0221</td>\n",
       "      <td>0.0492</td>\n",
       "      <td>0.0400</td>\n",
       "    </tr>\n",
       "  </tbody>\n",
       "</table>\n",
       "<p>5 rows × 49 columns</p>\n",
       "</div>"
      ],
      "text/plain": [
       "          Agric    Food  Soda    Beer   Smoke    Toys     Fun   Books   Hshld  \\\n",
       "1926-07  0.0237  0.0012   NaN -0.0519  0.0129  0.0865  0.0250  0.5021 -0.0048   \n",
       "1926-08  0.0223  0.0268   NaN  0.2703  0.0650  0.1681 -0.0076  0.4298 -0.0358   \n",
       "1926-09 -0.0057  0.0158   NaN  0.0402  0.0126  0.0833  0.0642 -0.0491  0.0073   \n",
       "1926-10 -0.0046 -0.0368   NaN -0.0331  0.0106 -0.0140 -0.0509  0.0537 -0.0468   \n",
       "1926-11  0.0675  0.0626   NaN  0.0729  0.0455  0.0000  0.0182 -0.0640 -0.0054   \n",
       "\n",
       "          Clths  ...   Boxes   Trans   Whlsl   Rtail   Meals   Banks   Insur  \\\n",
       "1926-07  0.0808  ...  0.0770  0.0194 -0.2379  0.0007  0.0187  0.0461 -0.0054   \n",
       "1926-08 -0.0251  ... -0.0238  0.0488  0.0539 -0.0075 -0.0013  0.1183  0.0257   \n",
       "1926-09 -0.0051  ... -0.0554  0.0006 -0.0787  0.0025 -0.0056 -0.0175  0.0072   \n",
       "1926-10  0.0012  ... -0.0508 -0.0264 -0.1538 -0.0220 -0.0411 -0.1182 -0.0428   \n",
       "1926-11  0.0187  ...  0.0384  0.0160  0.0467  0.0652  0.0433 -0.0297  0.0358   \n",
       "\n",
       "          RlEst     Fin   Other  \n",
       "1926-07  0.0289 -0.0485  0.0520  \n",
       "1926-08  0.0530 -0.0057  0.0676  \n",
       "1926-09 -0.0306 -0.0314 -0.0386  \n",
       "1926-10 -0.0574  0.0207 -0.0849  \n",
       "1926-11  0.0221  0.0492  0.0400  \n",
       "\n",
       "[5 rows x 49 columns]"
      ]
     },
     "execution_count": 119,
     "metadata": {},
     "output_type": "execute_result"
    }
   ],
   "source": [
    "ind49_rets = erk.get_ind_returns(weighting=\"vw\", n_inds=49)\n",
    "ind49_rets.head()"
   ]
  },
  {
   "cell_type": "code",
   "execution_count": 120,
   "metadata": {},
   "outputs": [],
   "source": [
    "def capm(begin=\"1991\", end=\"2018\", industry=\"Beer\"):\n",
    "    ind_rets=ind49_rets[begin:end]\n",
    "    fff = erk.get_fff_returns()[begin:end]\n",
    "    ind_excess = ind_rets.loc[:,[industry]] - fff.loc[:,[\"RF\"]].values\n",
    "    mkt_excess = fff.loc[:, [\"Mkt-RF\"]]\n",
    "    exp_var = mkt_excess.copy()\n",
    "    exp_var[\"Constant\"] = 1\n",
    "    # return exp_var.head()\n",
    "    lm = sm.OLS(ind_excess, exp_var).fit()\n",
    "    return lm"
   ]
  },
  {
   "attachments": {},
   "cell_type": "markdown",
   "metadata": {},
   "source": [
    "## 1. Question 1\n",
    "What is the CAPM (Single Factor) Beta when evaluated over the entire period (1991-2018) of Beer?"
   ]
  },
  {
   "cell_type": "code",
   "execution_count": 121,
   "metadata": {},
   "outputs": [
    {
     "data": {
      "text/plain": [
       "0.5295417263363027"
      ]
     },
     "execution_count": 121,
     "metadata": {},
     "output_type": "execute_result"
    }
   ],
   "source": [
    "# capm().summary()\n",
    "capm().params[\"Mkt-RF\"] # The answer is 0.5295"
   ]
  },
  {
   "attachments": {},
   "cell_type": "markdown",
   "metadata": {},
   "source": [
    "## 2. Question 2\n",
    "Using the same data as the previous question, what is the CAPM Beta when evaluated over the entire period (1991-2018) of Steel?\n",
    "Enter your answer as a number to at least 2 decimal places (e.g. 1.12)"
   ]
  },
  {
   "cell_type": "code",
   "execution_count": 122,
   "metadata": {},
   "outputs": [
    {
     "data": {
      "text/plain": [
       "1.5546095998085288"
      ]
     },
     "execution_count": 122,
     "metadata": {},
     "output_type": "execute_result"
    }
   ],
   "source": [
    "capm(industry=\"Steel\").params[\"Mkt-RF\"] # The answer is 1.5546"
   ]
  },
  {
   "attachments": {},
   "cell_type": "markdown",
   "metadata": {},
   "source": [
    "## 3. Question 3\n",
    "Using the same data as the previous question, what is the CAPM Beta when evaluated over the 2013-2018 (both included) period of Beer?\n",
    "Enter the answer as number up to at least 2 decimal places (e.g. 1.12)"
   ]
  },
  {
   "cell_type": "code",
   "execution_count": 123,
   "metadata": {},
   "outputs": [
    {
     "data": {
      "text/plain": [
       "0.585960389056597"
      ]
     },
     "execution_count": 123,
     "metadata": {},
     "output_type": "execute_result"
    }
   ],
   "source": [
    "capm(begin=\"2013\").params[\"Mkt-RF\"] # The answer is 0.5860"
   ]
  },
  {
   "attachments": {},
   "cell_type": "markdown",
   "metadata": {},
   "source": [
    "## 4. Question 4\n",
    "Using the same data set as the previous question, what is the CAPM Beta when evaluated over the 2013-2018 (both included) period of Steel? \n",
    "Enter the answer as a number up to at least 2 decimal places (e.g. 1.12)"
   ]
  },
  {
   "cell_type": "code",
   "execution_count": 124,
   "metadata": {},
   "outputs": [
    {
     "data": {
      "text/plain": [
       "1.4169446523353808"
      ]
     },
     "execution_count": 124,
     "metadata": {},
     "output_type": "execute_result"
    }
   ],
   "source": [
    "capm(begin=\"2013\", industry=\"Steel\").params[\"Mkt-RF\"] # The answer is 1.4169"
   ]
  },
  {
   "attachments": {},
   "cell_type": "markdown",
   "metadata": {},
   "source": [
    "## 5. Question 5\n",
    "Using the same data as the previous question, which of the 49 industries had the highest CAPM Beta when evaluated over the 1991-1993 (both included) period? (Use the same industry names as in the files). Enter the name as a text string, and remember to exactly match the column headers in the data file."
   ]
  },
  {
   "cell_type": "code",
   "execution_count": 125,
   "metadata": {},
   "outputs": [
    {
     "name": "stdout",
     "output_type": "stream",
     "text": [
      "Hlth 1.6151954971134441\n"
     ]
    }
   ],
   "source": [
    "max = 0\n",
    "max_industry = \"\"\n",
    "for industry in ind49_rets.columns:\n",
    "    beta = capm(begin=\"1991\", end=\"1993\", industry=industry).params[\"Mkt-RF\"]\n",
    "    if (beta > max):\n",
    "        max = beta\n",
    "        max_industry = industry\n",
    "print(max_industry, max)"
   ]
  },
  {
   "attachments": {},
   "cell_type": "markdown",
   "metadata": {},
   "source": [
    "## 6. Question 6\n",
    "Using the same data as the previous question, which of the 49 industries had the lowest CAPM Beta when evaluated over the 1991-1993 (both included) period? (Use the same industry names as in the files) . Enter the answer as text and remember to exactly match the column headers in the data file."
   ]
  },
  {
   "cell_type": "code",
   "execution_count": 126,
   "metadata": {},
   "outputs": [
    {
     "name": "stdout",
     "output_type": "stream",
     "text": [
      "Gold -0.5532887150791107\n"
     ]
    }
   ],
   "source": [
    "min = sys.maxsize\n",
    "min_industry = \"\"\n",
    "for industry in ind49_rets.columns:\n",
    "    beta = capm(begin=\"1991\", end=\"1993\", industry=industry).params[\"Mkt-RF\"]\n",
    "    if (beta < min):\n",
    "        min = beta\n",
    "        min_industry = industry\n",
    "print(min_industry, min)"
   ]
  },
  {
   "attachments": {},
   "cell_type": "markdown",
   "metadata": {},
   "source": [
    "## 7. Question 7\n",
    "For the next 4 questions use the Full 3 Factor Fama-French model using the research data supplied in the following data file `F-F_Research_Data_Factors.csv` and the same 1991-2018 period you have just used for the previous questions."
   ]
  },
  {
   "cell_type": "code",
   "execution_count": 127,
   "metadata": {},
   "outputs": [
    {
     "name": "stderr",
     "output_type": "stream",
     "text": [
      "C:\\Users\\jlche\\AppData\\Local\\Temp\\ipykernel_12040\\2007598248.py:1: ParserWarning: Falling back to the 'python' engine because the 'c' engine does not support skipfooter; you can avoid this warning by specifying engine='python'.\n",
      "  ff_d = pd.read_csv(\"data/F-F_Research_Data_Factors.CSV\", skiprows=3, skipfooter=(1211-1115), parse_dates=True, index_col=0)\n"
     ]
    },
    {
     "data": {
      "text/html": [
       "<div>\n",
       "<style scoped>\n",
       "    .dataframe tbody tr th:only-of-type {\n",
       "        vertical-align: middle;\n",
       "    }\n",
       "\n",
       "    .dataframe tbody tr th {\n",
       "        vertical-align: top;\n",
       "    }\n",
       "\n",
       "    .dataframe thead th {\n",
       "        text-align: right;\n",
       "    }\n",
       "</style>\n",
       "<table border=\"1\" class=\"dataframe\">\n",
       "  <thead>\n",
       "    <tr style=\"text-align: right;\">\n",
       "      <th></th>\n",
       "      <th>Mkt-RF</th>\n",
       "      <th>SMB</th>\n",
       "      <th>HML</th>\n",
       "      <th>RF</th>\n",
       "    </tr>\n",
       "  </thead>\n",
       "  <tbody>\n",
       "    <tr>\n",
       "      <th>2018-08</th>\n",
       "      <td>3.44</td>\n",
       "      <td>1.23</td>\n",
       "      <td>-4.12</td>\n",
       "      <td>0.16</td>\n",
       "    </tr>\n",
       "    <tr>\n",
       "      <th>2018-09</th>\n",
       "      <td>0.06</td>\n",
       "      <td>-2.37</td>\n",
       "      <td>-1.34</td>\n",
       "      <td>0.15</td>\n",
       "    </tr>\n",
       "    <tr>\n",
       "      <th>2018-10</th>\n",
       "      <td>-7.68</td>\n",
       "      <td>-4.68</td>\n",
       "      <td>3.41</td>\n",
       "      <td>0.19</td>\n",
       "    </tr>\n",
       "    <tr>\n",
       "      <th>2018-11</th>\n",
       "      <td>1.69</td>\n",
       "      <td>-0.74</td>\n",
       "      <td>0.20</td>\n",
       "      <td>0.18</td>\n",
       "    </tr>\n",
       "    <tr>\n",
       "      <th>2018-12</th>\n",
       "      <td>-9.55</td>\n",
       "      <td>-2.61</td>\n",
       "      <td>-1.51</td>\n",
       "      <td>0.19</td>\n",
       "    </tr>\n",
       "  </tbody>\n",
       "</table>\n",
       "</div>"
      ],
      "text/plain": [
       "         Mkt-RF   SMB   HML    RF\n",
       "2018-08    3.44  1.23 -4.12  0.16\n",
       "2018-09    0.06 -2.37 -1.34  0.15\n",
       "2018-10   -7.68 -4.68  3.41  0.19\n",
       "2018-11    1.69 -0.74  0.20  0.18\n",
       "2018-12   -9.55 -2.61 -1.51  0.19"
      ]
     },
     "execution_count": 127,
     "metadata": {},
     "output_type": "execute_result"
    }
   ],
   "source": [
    "ff_d = pd.read_csv(\"data/F-F_Research_Data_Factors.CSV\", skiprows=3, skipfooter=(1211-1115), parse_dates=True, index_col=0)\n",
    "ff_d.index = pd.to_datetime(ff_d.index, format=\"%Y%m\").to_period('M')\n",
    "ff_d.tail()"
   ]
  },
  {
   "cell_type": "code",
   "execution_count": 128,
   "metadata": {},
   "outputs": [],
   "source": [
    "def fama_french(begin=\"1991\", end=\"2018\", industry=\"Beer\"):\n",
    "    ind_rets=ind49_rets[begin:end]\n",
    "    fff = ff_d[begin:end]\n",
    "    ind_excess = ind_rets.loc[:,[industry]] - fff.loc[:,[\"RF\"]].values\n",
    "    mkt_excess = fff.loc[:, [\"Mkt-RF\"]]\n",
    "    exp_var = mkt_excess.copy()\n",
    "    exp_var[\"Constant\"] = 1\n",
    "    exp_var[\"Value\"] = fff.loc[:,['HML']]\n",
    "    exp_var[\"Size\"] = fff.loc[:,['SMB']]\n",
    "    # return exp_var.head()\n",
    "    lm = sm.OLS(ind_excess, exp_var).fit()\n",
    "    return lm"
   ]
  },
  {
   "attachments": {},
   "cell_type": "markdown",
   "metadata": {},
   "source": [
    "Of the 49 industries, which displayed the highest Small Cap tilt when analyzed over the entire 1991-2018 period?\n",
    "Enter your answer as a text string, and remember to use the exact same name as the column header in the text file"
   ]
  },
  {
   "cell_type": "code",
   "execution_count": 129,
   "metadata": {},
   "outputs": [
    {
     "name": "stdout",
     "output_type": "stream",
     "text": [
      "FabPr 0.008694964281733879\n"
     ]
    }
   ],
   "source": [
    "max = 0\n",
    "max_industry = \"\"\n",
    "for industry in ind49_rets.columns:\n",
    "    beta = fama_french(begin=\"1991\", end=\"2018\", industry=industry).params[\"Size\"]\n",
    "    if (beta > max):\n",
    "        max = beta\n",
    "        max_industry = industry\n",
    "print(max_industry, max)"
   ]
  },
  {
   "attachments": {},
   "cell_type": "markdown",
   "metadata": {},
   "source": [
    "## 8. Question 8\n",
    "Using the same dataset and period as the previous question, of the 49 industries, which displayed the highest Large Cap tilt when analyzed over the entire period? \n",
    "Enter the name of the industry as text, using the exact same name as the column header in the data file."
   ]
  },
  {
   "cell_type": "code",
   "execution_count": 130,
   "metadata": {},
   "outputs": [
    {
     "name": "stdout",
     "output_type": "stream",
     "text": [
      "Beer -0.0017766668540764958\n"
     ]
    }
   ],
   "source": [
    "min = sys.maxsize\n",
    "min_industry = \"\"\n",
    "for industry in ind49_rets.columns:\n",
    "    beta = fama_french(begin=\"1991\", end=\"2018\", industry=industry).params[\"Size\"]\n",
    "    if (beta < min):\n",
    "        min = beta\n",
    "        min_industry = industry\n",
    "print(min_industry, min)"
   ]
  },
  {
   "attachments": {},
   "cell_type": "markdown",
   "metadata": {},
   "source": [
    "## 9. Question 9\n",
    "Using the same data as period as the previous question, of the 49 industries, which displayed the highest Value tilt when analyzed over the entire period?    \n",
    "Enter the name of the industry as text, using the exact same name as the column header in the data file."
   ]
  },
  {
   "cell_type": "code",
   "execution_count": 131,
   "metadata": {},
   "outputs": [
    {
     "name": "stdout",
     "output_type": "stream",
     "text": [
      "Txtls 0.006082091479382075\n"
     ]
    }
   ],
   "source": [
    "max = 0\n",
    "max_industry = \"\"\n",
    "for industry in ind49_rets.columns:\n",
    "    beta = fama_french(begin=\"1991\", end=\"2018\", industry=industry).params[\"Value\"]\n",
    "    if (beta > max):\n",
    "        max = beta\n",
    "        max_industry = industry\n",
    "print(max_industry, max)"
   ]
  },
  {
   "attachments": {},
   "cell_type": "markdown",
   "metadata": {},
   "source": [
    "## 10. Question 10\n",
    "Using the same data set and period as the previous question, of the 49 industries, which displayed the highest Growth tilt when analyzed over the entire period?\n",
    "Enter the name of the industry as text, using the exact same name as the column header in the data file."
   ]
  },
  {
   "cell_type": "code",
   "execution_count": 132,
   "metadata": {},
   "outputs": [
    {
     "name": "stdout",
     "output_type": "stream",
     "text": [
      "Softw -0.012277727500611497\n"
     ]
    }
   ],
   "source": [
    "min = sys.maxsize\n",
    "min_industry = \"\"\n",
    "for industry in ind49_rets.columns:\n",
    "    beta = fama_french(begin=\"1991\", end=\"2018\", industry=industry).params[\"Value\"]\n",
    "    if (beta < min):\n",
    "        min = beta\n",
    "        min_industry = industry\n",
    "print(min_industry, min)"
   ]
  }
 ],
 "metadata": {
  "kernelspec": {
   "display_name": "Python 3",
   "language": "python",
   "name": "python3"
  },
  "language_info": {
   "codemirror_mode": {
    "name": "ipython",
    "version": 3
   },
   "file_extension": ".py",
   "mimetype": "text/x-python",
   "name": "python",
   "nbconvert_exporter": "python",
   "pygments_lexer": "ipython3",
   "version": "3.11.1"
  },
  "orig_nbformat": 4,
  "vscode": {
   "interpreter": {
    "hash": "ce1088cefd7531948aa66ab491b9c67a77446cabd6580784071eac06fd5b0bd2"
   }
  }
 },
 "nbformat": 4,
 "nbformat_minor": 2
}
