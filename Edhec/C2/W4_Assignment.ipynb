{
 "cells": [
  {
   "cell_type": "markdown",
   "metadata": {},
   "source": [
    "# Week 4 Assignment"
   ]
  },
  {
   "cell_type": "code",
   "execution_count": 141,
   "metadata": {},
   "outputs": [
    {
     "name": "stdout",
     "output_type": "stream",
     "text": [
      "The autoreload extension is already loaded. To reload it, use:\n",
      "  %reload_ext autoreload\n"
     ]
    }
   ],
   "source": [
    "import numpy as np\n",
    "import pandas as pd\n",
    "import statsmodels.api as sm\n",
    "import edhec_risk_kit_207 as erk # created by JLC to add functions from lab_23.ipynb and lab_24.ipynb\n",
    "%load_ext autoreload\n",
    "%autoreload 2"
   ]
  },
  {
   "attachments": {},
   "cell_type": "markdown",
   "metadata": {},
   "source": [
    "Load the 49 Value Weighted industry portfolio returns. Limit the analysis to returns of the 49 VW portfolios from the most recent 5 years for which you have data i.e 2014-2018 both years inclusive. Also load the Market Caps of each of the 49 industries."
   ]
  },
  {
   "cell_type": "code",
   "execution_count": 142,
   "metadata": {},
   "outputs": [
    {
     "data": {
      "text/html": [
       "<div>\n",
       "<style scoped>\n",
       "    .dataframe tbody tr th:only-of-type {\n",
       "        vertical-align: middle;\n",
       "    }\n",
       "\n",
       "    .dataframe tbody tr th {\n",
       "        vertical-align: top;\n",
       "    }\n",
       "\n",
       "    .dataframe thead th {\n",
       "        text-align: right;\n",
       "    }\n",
       "</style>\n",
       "<table border=\"1\" class=\"dataframe\">\n",
       "  <thead>\n",
       "    <tr style=\"text-align: right;\">\n",
       "      <th></th>\n",
       "      <th>Agric</th>\n",
       "      <th>Food</th>\n",
       "      <th>Soda</th>\n",
       "      <th>Beer</th>\n",
       "      <th>Smoke</th>\n",
       "      <th>Toys</th>\n",
       "      <th>Fun</th>\n",
       "      <th>Books</th>\n",
       "      <th>Hshld</th>\n",
       "      <th>Clths</th>\n",
       "      <th>...</th>\n",
       "      <th>Boxes</th>\n",
       "      <th>Trans</th>\n",
       "      <th>Whlsl</th>\n",
       "      <th>Rtail</th>\n",
       "      <th>Meals</th>\n",
       "      <th>Banks</th>\n",
       "      <th>Insur</th>\n",
       "      <th>RlEst</th>\n",
       "      <th>Fin</th>\n",
       "      <th>Other</th>\n",
       "    </tr>\n",
       "  </thead>\n",
       "  <tbody>\n",
       "    <tr>\n",
       "      <th>2014-01</th>\n",
       "      <td>0.003195</td>\n",
       "      <td>0.016964</td>\n",
       "      <td>0.009687</td>\n",
       "      <td>0.008478</td>\n",
       "      <td>0.012581</td>\n",
       "      <td>0.001497</td>\n",
       "      <td>0.007838</td>\n",
       "      <td>0.000974</td>\n",
       "      <td>0.020731</td>\n",
       "      <td>0.009513</td>\n",
       "      <td>...</td>\n",
       "      <td>0.002065</td>\n",
       "      <td>0.021903</td>\n",
       "      <td>0.012734</td>\n",
       "      <td>0.067461</td>\n",
       "      <td>0.015058</td>\n",
       "      <td>0.087880</td>\n",
       "      <td>0.040513</td>\n",
       "      <td>0.002009</td>\n",
       "      <td>0.024015</td>\n",
       "      <td>0.050001</td>\n",
       "    </tr>\n",
       "    <tr>\n",
       "      <th>2014-02</th>\n",
       "      <td>0.003036</td>\n",
       "      <td>0.016957</td>\n",
       "      <td>0.009283</td>\n",
       "      <td>0.008744</td>\n",
       "      <td>0.011959</td>\n",
       "      <td>0.001417</td>\n",
       "      <td>0.008191</td>\n",
       "      <td>0.000944</td>\n",
       "      <td>0.020050</td>\n",
       "      <td>0.009116</td>\n",
       "      <td>...</td>\n",
       "      <td>0.002064</td>\n",
       "      <td>0.022260</td>\n",
       "      <td>0.012890</td>\n",
       "      <td>0.064583</td>\n",
       "      <td>0.014811</td>\n",
       "      <td>0.087787</td>\n",
       "      <td>0.039718</td>\n",
       "      <td>0.002034</td>\n",
       "      <td>0.023512</td>\n",
       "      <td>0.048411</td>\n",
       "    </tr>\n",
       "    <tr>\n",
       "      <th>2014-03</th>\n",
       "      <td>0.002994</td>\n",
       "      <td>0.017020</td>\n",
       "      <td>0.009058</td>\n",
       "      <td>0.008503</td>\n",
       "      <td>0.011823</td>\n",
       "      <td>0.001396</td>\n",
       "      <td>0.008552</td>\n",
       "      <td>0.000977</td>\n",
       "      <td>0.019846</td>\n",
       "      <td>0.009201</td>\n",
       "      <td>...</td>\n",
       "      <td>0.002129</td>\n",
       "      <td>0.021689</td>\n",
       "      <td>0.012886</td>\n",
       "      <td>0.065351</td>\n",
       "      <td>0.014813</td>\n",
       "      <td>0.086435</td>\n",
       "      <td>0.039411</td>\n",
       "      <td>0.002040</td>\n",
       "      <td>0.023150</td>\n",
       "      <td>0.047475</td>\n",
       "    </tr>\n",
       "    <tr>\n",
       "      <th>2014-04</th>\n",
       "      <td>0.003093</td>\n",
       "      <td>0.017461</td>\n",
       "      <td>0.009103</td>\n",
       "      <td>0.008829</td>\n",
       "      <td>0.012118</td>\n",
       "      <td>0.001452</td>\n",
       "      <td>0.007893</td>\n",
       "      <td>0.000969</td>\n",
       "      <td>0.020102</td>\n",
       "      <td>0.009058</td>\n",
       "      <td>...</td>\n",
       "      <td>0.002090</td>\n",
       "      <td>0.022153</td>\n",
       "      <td>0.012870</td>\n",
       "      <td>0.064142</td>\n",
       "      <td>0.014993</td>\n",
       "      <td>0.088473</td>\n",
       "      <td>0.040032</td>\n",
       "      <td>0.001975</td>\n",
       "      <td>0.023237</td>\n",
       "      <td>0.049913</td>\n",
       "    </tr>\n",
       "    <tr>\n",
       "      <th>2014-05</th>\n",
       "      <td>0.003008</td>\n",
       "      <td>0.017468</td>\n",
       "      <td>0.009550</td>\n",
       "      <td>0.008367</td>\n",
       "      <td>0.012834</td>\n",
       "      <td>0.001436</td>\n",
       "      <td>0.007549</td>\n",
       "      <td>0.000952</td>\n",
       "      <td>0.020638</td>\n",
       "      <td>0.008730</td>\n",
       "      <td>...</td>\n",
       "      <td>0.002063</td>\n",
       "      <td>0.022437</td>\n",
       "      <td>0.012816</td>\n",
       "      <td>0.063659</td>\n",
       "      <td>0.014827</td>\n",
       "      <td>0.084368</td>\n",
       "      <td>0.039481</td>\n",
       "      <td>0.001918</td>\n",
       "      <td>0.022710</td>\n",
       "      <td>0.051581</td>\n",
       "    </tr>\n",
       "  </tbody>\n",
       "</table>\n",
       "<p>5 rows × 49 columns</p>\n",
       "</div>"
      ],
      "text/plain": [
       "            Agric      Food      Soda      Beer     Smoke      Toys       Fun  \\\n",
       "2014-01  0.003195  0.016964  0.009687  0.008478  0.012581  0.001497  0.007838   \n",
       "2014-02  0.003036  0.016957  0.009283  0.008744  0.011959  0.001417  0.008191   \n",
       "2014-03  0.002994  0.017020  0.009058  0.008503  0.011823  0.001396  0.008552   \n",
       "2014-04  0.003093  0.017461  0.009103  0.008829  0.012118  0.001452  0.007893   \n",
       "2014-05  0.003008  0.017468  0.009550  0.008367  0.012834  0.001436  0.007549   \n",
       "\n",
       "            Books     Hshld     Clths  ...     Boxes     Trans     Whlsl  \\\n",
       "2014-01  0.000974  0.020731  0.009513  ...  0.002065  0.021903  0.012734   \n",
       "2014-02  0.000944  0.020050  0.009116  ...  0.002064  0.022260  0.012890   \n",
       "2014-03  0.000977  0.019846  0.009201  ...  0.002129  0.021689  0.012886   \n",
       "2014-04  0.000969  0.020102  0.009058  ...  0.002090  0.022153  0.012870   \n",
       "2014-05  0.000952  0.020638  0.008730  ...  0.002063  0.022437  0.012816   \n",
       "\n",
       "            Rtail     Meals     Banks     Insur     RlEst       Fin     Other  \n",
       "2014-01  0.067461  0.015058  0.087880  0.040513  0.002009  0.024015  0.050001  \n",
       "2014-02  0.064583  0.014811  0.087787  0.039718  0.002034  0.023512  0.048411  \n",
       "2014-03  0.065351  0.014813  0.086435  0.039411  0.002040  0.023150  0.047475  \n",
       "2014-04  0.064142  0.014993  0.088473  0.040032  0.001975  0.023237  0.049913  \n",
       "2014-05  0.063659  0.014827  0.084368  0.039481  0.001918  0.022710  0.051581  \n",
       "\n",
       "[5 rows x 49 columns]"
      ]
     },
     "execution_count": 142,
     "metadata": {},
     "output_type": "execute_result"
    }
   ],
   "source": [
    "ind49_rets = erk.get_ind_returns(weighting=\"vw\", n_inds=49)[\"2014\":]\n",
    "ind49_mcap = erk.get_ind_market_caps(49, weights=True)[\"2014\":]\n",
    "inds = ind49_rets.columns\n",
    "ind49_mcap.head()"
   ]
  },
  {
   "attachments": {},
   "cell_type": "markdown",
   "metadata": {},
   "source": [
    "Assume that the cap-weights as of the first month (2014-01) are the cap-weights we’ll use for this analysis."
   ]
  },
  {
   "cell_type": "code",
   "execution_count": 143,
   "metadata": {},
   "outputs": [
    {
     "data": {
      "text/plain": [
       "Agric    0.003195\n",
       "Food     0.016964\n",
       "Soda     0.009687\n",
       "Beer     0.008478\n",
       "Smoke    0.012581\n",
       "Toys     0.001497\n",
       "Fun      0.007838\n",
       "Books    0.000974\n",
       "Hshld    0.020731\n",
       "Clths    0.009513\n",
       "Hlth     0.004713\n",
       "MedEq    0.013895\n",
       "Drugs    0.082970\n",
       "Chems    0.019345\n",
       "Rubbr    0.001834\n",
       "Txtls    0.000970\n",
       "BldMt    0.004366\n",
       "Cnstr    0.006153\n",
       "Steel    0.003572\n",
       "FabPr    0.000271\n",
       "Mach     0.023140\n",
       "ElcEq    0.005911\n",
       "Autos    0.013947\n",
       "Aero     0.013772\n",
       "Ships    0.000860\n",
       "Guns     0.002698\n",
       "Gold     0.000686\n",
       "Mines    0.003975\n",
       "Coal     0.000893\n",
       "Oil      0.075920\n",
       "Util     0.032890\n",
       "Telcm    0.054935\n",
       "PerSv    0.003217\n",
       "BusSv    0.019899\n",
       "Hardw    0.016487\n",
       "Softw    0.095938\n",
       "Chips    0.058337\n",
       "LabEq    0.012937\n",
       "Paper    0.010371\n",
       "Boxes    0.002065\n",
       "Trans    0.021903\n",
       "Whlsl    0.012734\n",
       "Rtail    0.067461\n",
       "Meals    0.015058\n",
       "Banks    0.087880\n",
       "Insur    0.040513\n",
       "RlEst    0.002009\n",
       "Fin      0.024015\n",
       "Other    0.050001\n",
       "Name: 2014-01, dtype: float64"
      ]
     },
     "execution_count": 143,
     "metadata": {},
     "output_type": "execute_result"
    }
   ],
   "source": [
    "cov = ind49_rets.cov()\n",
    "#erk.weight_cw takes the cap weights at index 1, that is 2014-02 when we want 2014-01\n",
    "#cw = erk.weight_cw(ind49_rets, cap_weights=ind49_mcap)\n",
    "cw = ind49_mcap.loc[ind49_rets.index[0]]\n",
    "#cw = cw/cw.sum() #cw.sum() is 1, so no need to\n",
    "cw"
   ]
  },
  {
   "cell_type": "markdown",
   "metadata": {},
   "source": [
    "## 1. Question 1\n",
    "Which Industry had the highest risk contribution in the cap-weighted portfolio?\n",
    "Enter your answer as text, exactly as they are named in the Data file (i.e. Hlth, Fin, Whlsl, Rtail, or Food)"
   ]
  },
  {
   "cell_type": "code",
   "execution_count": 144,
   "metadata": {},
   "outputs": [
    {
     "data": {
      "text/plain": [
       "<AxesSubplot: title={'center': 'Risk Contributions of a CW portfolio'}>"
      ]
     },
     "execution_count": 144,
     "metadata": {},
     "output_type": "execute_result"
    },
    {
     "data": {
      "image/png": "[encoded data removed]",
      "text/plain": [
       "<Figure size 640x480 with 1 Axes>"
      ]
     },
     "metadata": {},
     "output_type": "display_data"
    }
   ],
   "source": [
    "rc_cw = erk.risk_contribution(cw, cov)\n",
    "rc_cw.plot.bar(title=\"Risk Contributions of a CW portfolio\")"
   ]
  },
  {
   "cell_type": "code",
   "execution_count": 145,
   "metadata": {},
   "outputs": [
    {
     "data": {
      "text/plain": [
       "'Banks'"
      ]
     },
     "execution_count": 145,
     "metadata": {},
     "output_type": "execute_result"
    }
   ],
   "source": [
    "rc_cw.idxmax() # The answer is Banks"
   ]
  },
  {
   "attachments": {},
   "cell_type": "markdown",
   "metadata": {},
   "source": [
    "## 2. Question 2\n",
    "Use the same data as the previous question. What was the highest risk contribution from any one industry in the cap-weighted portfolio?\n",
    "Enter the answer as a percentage  (e.g. for 5.67% enter 5.67)"
   ]
  },
  {
   "cell_type": "code",
   "execution_count": 146,
   "metadata": {},
   "outputs": [
    {
     "data": {
      "text/plain": [
       "10.41"
      ]
     },
     "execution_count": 146,
     "metadata": {},
     "output_type": "execute_result"
    }
   ],
   "source": [
    "round(rc_cw.max()*100, 2) # The answer is 10.41"
   ]
  },
  {
   "attachments": {},
   "cell_type": "markdown",
   "metadata": {},
   "source": [
    "## 3. Question 3\n",
    "Use the same data set as the previous question.\n",
    "Which Industry had the highest risk contribution in the equal-weighted portfolio?\n",
    "Enter your answer as text, exactly as they are named in the Data file (i.e. Hlth, Fin, Whlsl, Rtail, or Food)"
   ]
  },
  {
   "cell_type": "code",
   "execution_count": 147,
   "metadata": {},
   "outputs": [
    {
     "data": {
      "text/plain": [
       "'Steel'"
      ]
     },
     "execution_count": 147,
     "metadata": {},
     "output_type": "execute_result"
    }
   ],
   "source": [
    "ew = erk.weight_ew(ind49_rets)\n",
    "rc_ew = erk.risk_contribution(ew, cov)\n",
    "rc_ew.idxmax() # The answer is Steel"
   ]
  },
  {
   "attachments": {},
   "cell_type": "markdown",
   "metadata": {},
   "source": [
    "## 4. Question 4\n",
    "Use the same data as the previous question.\n",
    "What was the highest risk contribution from any one industry in the equal-weighted portfolio?\n",
    "Enter the answer as a percentage  (e.g. for 5.67% enter 5.67)"
   ]
  },
  {
   "cell_type": "code",
   "execution_count": 148,
   "metadata": {},
   "outputs": [
    {
     "data": {
      "text/plain": [
       "3.09"
      ]
     },
     "execution_count": 148,
     "metadata": {},
     "output_type": "execute_result"
    }
   ],
   "source": [
    "round(rc_ew.max()*100, 2) # The answer is 3.09"
   ]
  },
  {
   "attachments": {},
   "cell_type": "markdown",
   "metadata": {},
   "source": [
    "## 5. Question 5\n",
    "Using the Sample Covariance over the 5 year period, compute the weights of the ERC portfolio. What sector portfolio is assigned the highest weight in the ERC portfolio?\n",
    "Enter your answer as text, exactly as they are named in the Data file (i.e. Hlth, Fin, Whlsl, Rtail, or Food)"
   ]
  },
  {
   "cell_type": "code",
   "execution_count": 149,
   "metadata": {},
   "outputs": [
    {
     "data": {
      "text/plain": [
       "'Util'"
      ]
     },
     "execution_count": 149,
     "metadata": {},
     "output_type": "execute_result"
    }
   ],
   "source": [
    "rw = erk.equal_risk_contributions(cov)\n",
    "inds[np.argmax(rw)] # Answer is Util"
   ]
  },
  {
   "cell_type": "code",
   "execution_count": 150,
   "metadata": {},
   "outputs": [
    {
     "data": {
      "image/png": "[encoded data removed]",
      "text/plain": [
       "<Figure size 640x480 with 1 Axes>"
      ]
     },
     "metadata": {},
     "output_type": "display_data"
    }
   ],
   "source": [
    "erk.risk_contribution(rw, cov).plot.bar(title=\"Risk Contributions of an ERC portfolio\");"
   ]
  },
  {
   "attachments": {},
   "cell_type": "markdown",
   "metadata": {},
   "source": [
    "## 6. Question 6\n",
    "Using the same data as the previous question (Sample Covariance over the 5 year period, and the initial capweights over that period) compute the weights of the ERC portfolio. What is the weight of the sector portfolio that is assigned the highest weight in the ERC portfolio?\n",
    "Enter the answer as a percentage  (e.g. for 5.67% enter 5.67)"
   ]
  },
  {
   "cell_type": "code",
   "execution_count": 151,
   "metadata": {},
   "outputs": [
    {
     "data": {
      "text/plain": [
       "5.22"
      ]
     },
     "execution_count": 151,
     "metadata": {},
     "output_type": "execute_result"
    }
   ],
   "source": [
    "round(rw.max()*100, 2) # Answer is 5.22"
   ]
  },
  {
   "attachments": {},
   "cell_type": "markdown",
   "metadata": {},
   "source": [
    "## 7. Question 7\n",
    "Use the same data as the previous question (Sample Covariance over the 5 year period, and the initial capweights over that period) and the weights of ERC portfolio. What sector portfolio is assigned the lowest weight in the ERC portfolio?\n",
    "Enter your answer as text, exactly as they are named in the Data file (i.e. Hlth, Fin, Whlsl, Rtail, or Food)"
   ]
  },
  {
   "cell_type": "code",
   "execution_count": 152,
   "metadata": {},
   "outputs": [
    {
     "data": {
      "text/plain": [
       "'Steel'"
      ]
     },
     "execution_count": 152,
     "metadata": {},
     "output_type": "execute_result"
    }
   ],
   "source": [
    "inds[np.argmin(rw)] # Answer is Steel"
   ]
  },
  {
   "attachments": {},
   "cell_type": "markdown",
   "metadata": {},
   "source": [
    "## 8. Question 8\n",
    "Use the same data as the previous question (Sample Covariance over the 5 year period, and the initial capweights over that period) and the weights of ERC portfolio.\n",
    "What is the weight of the sector portfolio that is assigned the lowest weight in the ERC portfolio?\n",
    "Enter the answer as a percentage  (e.g. for 5.67% enter 5.67)"
   ]
  },
  {
   "cell_type": "code",
   "execution_count": 153,
   "metadata": {},
   "outputs": [
    {
     "data": {
      "text/plain": [
       "1.28"
      ]
     },
     "execution_count": 153,
     "metadata": {},
     "output_type": "execute_result"
    }
   ],
   "source": [
    "round(rw.min()*100, 2) # Answer is 1.28"
   ]
  },
  {
   "attachments": {},
   "cell_type": "markdown",
   "metadata": {},
   "source": [
    "## 9. Question 9\n",
    "Use the same data as you used in the previous question (Sample Covariance over the 5  year period and the initial capweights over that period).\n",
    "In the cap-weighted portfolio what is the difference in risk contributions between the largest contributor to portfolio risk and the smallest contributor to portfolio risk?\n",
    "Enter the answer as a percentage  (e.g. for 5.67% enter 5.67)"
   ]
  },
  {
   "cell_type": "code",
   "execution_count": 154,
   "metadata": {},
   "outputs": [
    {
     "data": {
      "text/plain": [
       "10.4"
      ]
     },
     "execution_count": 154,
     "metadata": {},
     "output_type": "execute_result"
    }
   ],
   "source": [
    "round((rc_cw.max()-rc_cw.min())*100, 2) # The answer is 10.40"
   ]
  },
  {
   "attachments": {},
   "cell_type": "markdown",
   "metadata": {},
   "source": [
    "## 10. Question 10\n",
    "Use the same data as you used in the previous question (Sample Covariance over the 5  year period and the initial capweights over that period).\n",
    "In the equal-weighted portfolio what is the difference in risk contributions between the largest contributor to portfolio risk and the smallest contributor to portfolio risk?\n",
    "Enter the answer as a percentage  (e.g. for 5.67% enter 5.67)"
   ]
  },
  {
   "cell_type": "code",
   "execution_count": 155,
   "metadata": {},
   "outputs": [
    {
     "data": {
      "text/plain": [
       "2.5"
      ]
     },
     "execution_count": 155,
     "metadata": {},
     "output_type": "execute_result"
    }
   ],
   "source": [
    "round((rc_ew.max()-rc_ew.min())*100, 2) # The answer is 2.50"
   ]
  }
 ],
 "metadata": {
  "kernelspec": {
   "display_name": "Python 3",
   "language": "python",
   "name": "python3"
  },
  "language_info": {
   "codemirror_mode": {
    "name": "ipython",
    "version": 3
   },
   "file_extension": ".py",
   "mimetype": "text/x-python",
   "name": "python",
   "nbconvert_exporter": "python",
   "pygments_lexer": "ipython3",
   "version": "3.11.1"
  },
  "orig_nbformat": 4,
  "vscode": {
   "interpreter": {
    "hash": "ce1088cefd7531948aa66ab491b9c67a77446cabd6580784071eac06fd5b0bd2"
   }
  }
 },
 "nbformat": 4,
 "nbformat_minor": 2
}
