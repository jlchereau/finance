{
 "cells": [
  {
   "cell_type": "markdown",
   "metadata": {},
   "source": [
    "# Week 4 Assignment"
   ]
  },
  {
   "attachments": {},
   "cell_type": "markdown",
   "metadata": {},
   "source": [
    "In the following questions, we will be working with three bonds:\n",
    "\n",
    "- B1 is a 15 Year Bond with a Face Value of $1000 that pays a 5% coupon semi-annually (2 times a year)\n",
    "- B2 is a 5 Year Bond with a Face value of $1000 that pays a 6% coupon quarterly (4 times a year)\n",
    "- B3 is a 10 Year Zero-Coupon Bond with a Face Value of $1000 (Hint: you can still use the erk.bond_cash_flows() and erk.bond_price() by setting the coupon amount to 0% and coupons_per_year to 1)\n",
    "\n",
    "Assume the yield curve is flat at 5%. Duration refers to Macaulay Duration (Hint: the macaulay_duration function gives as output the duration expressed in periods and not in years. If you want to get the yearly duration you need to divide the duration for coupons_per_year; e.g.: duration_B2 = erk.macaulay_duration(flows_B2, 0.05/4)/4)."
   ]
  },
  {
   "cell_type": "code",
   "execution_count": 1,
   "metadata": {},
   "outputs": [],
   "source": [
    "import numpy as np\n",
    "import pandas as pd\n",
    "import edhec_risk_kit_129 as erk"
   ]
  },
  {
   "attachments": {},
   "cell_type": "markdown",
   "metadata": {},
   "source": [
    "## 1. Question 1\n",
    "Which of the three bonds is the most expensive?"
   ]
  },
  {
   "cell_type": "markdown",
   "metadata": {},
   "source": [
    "## 2. Question 2\n",
    "Which of the three bonds is the least expensive?"
   ]
  },
  {
   "attachments": {},
   "cell_type": "markdown",
   "metadata": {},
   "source": [
    "## 3. Question 3\n",
    "What is the price of the 10 Year Zero Coupon Bond B3?"
   ]
  },
  {
   "cell_type": "code",
   "execution_count": 8,
   "metadata": {},
   "outputs": [
    {
     "name": "stdout",
     "output_type": "stream",
     "text": [
      "0    1000.0\n",
      "dtype: float64\n",
      "0    1044.0\n",
      "dtype: float64\n",
      "0    614.0\n",
      "dtype: float64\n"
     ]
    },
    {
     "data": {
      "text/plain": [
       "0    613.913254\n",
       "dtype: float64"
      ]
     },
     "execution_count": 8,
     "metadata": {},
     "output_type": "execute_result"
    }
   ],
   "source": [
    "# yield curve (discount rate)\n",
    "yc=.05\n",
    "# b1 = maturity=15 years, value=1000, coupon rate=.05, coupons per year=2\n",
    "b1_price = erk.bond_price(15, 1000, .05, 2, yc)\n",
    "print(np.round(b1_price))\n",
    "# b2 = maturity=5 years, value=1000, coupon rate=.06, coupons per year=4\n",
    "b2_price = erk.bond_price(5, 1000, .06, 4, yc)\n",
    "print(np.round(b2_price))\n",
    "# b3 = maturity=10 years, value=1000, coupon rate=0, coupons per year=1 (see hint)\n",
    "b3_price = erk.bond_price(10, 1000, 0, 1, yc)\n",
    "print(np.round(b3_price))"
   ]
  },
  {
   "attachments": {},
   "cell_type": "markdown",
   "metadata": {},
   "source": [
    "## 4. Question 4\n",
    "Which of the three bonds has the highest (Macaulay) Duration?"
   ]
  },
  {
   "attachments": {},
   "cell_type": "markdown",
   "metadata": {},
   "source": [
    "## 5. Question 5\n",
    "Which of the three bonds has the lowest (Macaulay) Duration?"
   ]
  },
  {
   "attachments": {},
   "cell_type": "markdown",
   "metadata": {},
   "source": [
    "## 6. Question 6\n",
    "What is the duration of the 5 year bond B2?"
   ]
  },
  {
   "cell_type": "code",
   "execution_count": 10,
   "metadata": {},
   "outputs": [
    {
     "name": "stdout",
     "output_type": "stream",
     "text": [
      "10.73\n",
      "4.37\n",
      "10.0\n"
     ]
    }
   ],
   "source": [
    "# b1 = maturity=15 years, value=1000, coupon rate=.05, coupons per year=2\n",
    "b1_flows = erk.bond_cash_flows(15, 1000, .05, 2)\n",
    "b1_duration = erk.macaulay_duration(b1_flows, yc/2)/2\n",
    "print(np.round(b1_duration, 2))\n",
    "# b2 = maturity=5 years, value=1000, coupon rate=.06, coupons per year=4\n",
    "b2_flows = erk.bond_cash_flows(5, 1000, .06, 4)\n",
    "b2_duration = erk.macaulay_duration(b2_flows, yc/4)/4\n",
    "print(np.round(b2_duration, 2))\n",
    "# b3 = maturity=10 years, value=1000, coupon rate=0, coupons per year=1 (see hint)\n",
    "b3_flows = erk.bond_cash_flows(10, 1000, 0, 1)\n",
    "b3_duration = erk.macaulay_duration(b3_flows, yc)\n",
    "print(np.round(b3_duration, 2))"
   ]
  },
  {
   "attachments": {},
   "cell_type": "markdown",
   "metadata": {},
   "source": [
    "## 7. Question 7\n",
    "Assume a sequence of 3 liabilities of $100,000, $200,000 and $300,000 that are 3, 5 and 10 years away, respectively. What is the Duration of the liabilities?\n",
    "(Reminder: Assume the yield curve is flat at 5%. Duration refers to Macaulay Duration)"
   ]
  },
  {
   "cell_type": "code",
   "execution_count": 11,
   "metadata": {},
   "outputs": [
    {
     "data": {
      "text/plain": [
       "6.750917852744651"
      ]
     },
     "execution_count": 11,
     "metadata": {},
     "output_type": "execute_result"
    }
   ],
   "source": [
    "liabilities = pd.Series(data = [100000, 200000, 300000], index=[3, 5, 10])\n",
    "l_duration = erk.macaulay_duration(liabilities, yc)\n",
    "l_duration"
   ]
  },
  {
   "attachments": {},
   "cell_type": "markdown",
   "metadata": {},
   "source": [
    "## 8. Question 8\n",
    "Assuming the same set of liabilities as the previous question (i.e. a sequence of 3 liabilities of $100,000, $200,000 and $300,000 that are 3, 5 and 10 years away, respectively) build a Duration Matched Portfolio of B1 and B2 to match these liabilities. What is the weight of B2 in the portfolio? (Hint: the code we developed in class erk.match_durations() assumes that all the bonds have the same number of coupons per year. This is not the case here, so you will either need to enhance the code or compute the weight directly, e.g. by entering the steps in a Jupyter Notebook Cell or at the Python Command Line)"
   ]
  },
  {
   "cell_type": "code",
   "execution_count": 13,
   "metadata": {},
   "outputs": [
    {
     "data": {
      "text/plain": [
       "0.6257830075060314"
      ]
     },
     "execution_count": 13,
     "metadata": {},
     "output_type": "execute_result"
    }
   ],
   "source": [
    "d_l=b1_duration\n",
    "d_s=b2_duration\n",
    "d_t=l_duration\n",
    "b2_weight=(d_l - d_t)/(d_l - d_s)\n",
    "b2_weight"
   ]
  },
  {
   "attachments": {},
   "cell_type": "markdown",
   "metadata": {},
   "source": [
    "## 9. Question 9\n",
    "Assume you can use any of the bonds B1, B2 and B3 to build a duration matched bond portfolio matched to the liabilities. Which combination of 2 bonds can you NOT use to build a duration matched bond portfolio?\n",
    "- B1+B2\n",
    "- **B1+B3** _(because both maturities exceed 6.75)_\n",
    "- ANY PAIR WILL WORK\n",
    "- B2+B3"
   ]
  },
  {
   "attachments": {},
   "cell_type": "markdown",
   "metadata": {},
   "source": [
    "## 10. Question 10\n",
    "Assuming the same liabilities as the previous questions (i.e. a sequence of 3 liabilities of $100,000, $200,000 and $300,000 that are 3, 5 and 10 years away, respectively), build a Duration Matched Portfolio of B2 and B3 to match the liabilities. What is the weight of B2 in this portfolio?"
   ]
  },
  {
   "cell_type": "code",
   "execution_count": 14,
   "metadata": {},
   "outputs": [
    {
     "data": {
      "text/plain": [
       "0.5774465770256697"
      ]
     },
     "execution_count": 14,
     "metadata": {},
     "output_type": "execute_result"
    }
   ],
   "source": [
    "d_l=b3_duration\n",
    "d_s=b2_duration\n",
    "d_t=l_duration\n",
    "b2_weight=(d_l - d_t)/(d_l - d_s)\n",
    "b2_weight"
   ]
  }
 ],
 "metadata": {
  "kernelspec": {
   "display_name": "Python 3",
   "language": "python",
   "name": "python3"
  },
  "language_info": {
   "codemirror_mode": {
    "name": "ipython",
    "version": 3
   },
   "file_extension": ".py",
   "mimetype": "text/x-python",
   "name": "python",
   "nbconvert_exporter": "python",
   "pygments_lexer": "ipython3",
   "version": "3.11.1"
  },
  "orig_nbformat": 4,
  "vscode": {
   "interpreter": {
    "hash": "ce1088cefd7531948aa66ab491b9c67a77446cabd6580784071eac06fd5b0bd2"
   }
  }
 },
 "nbformat": 4,
 "nbformat_minor": 2
}
